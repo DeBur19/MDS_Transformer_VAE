{
 "cells": [
  {
   "cell_type": "code",
   "execution_count": 0,
   "metadata": {
    "colab": {},
    "colab_type": "code",
    "id": "vaXDWiB3B2Xp"
   },
   "outputs": [],
   "source": [
    "#pip install transformers -U"
   ]
  },
  {
   "cell_type": "code",
   "execution_count": 2,
   "metadata": {
    "colab": {
     "base_uri": "https://localhost:8080/",
     "height": 34
    },
    "colab_type": "code",
    "executionInfo": {
     "elapsed": 4113,
     "status": "ok",
     "timestamp": 1589825798515,
     "user": {
      "displayName": "Денис Бурштеин",
      "photoUrl": "",
      "userId": "00444690313210585410"
     },
     "user_tz": -180
    },
    "id": "9L42Nu5AB2Xy",
    "outputId": "63fd6025-c10a-4b25-f1b1-23290176f64e"
   },
   "outputs": [
    {
     "name": "stdout",
     "output_type": "stream",
     "text": [
      "Populating the interactive namespace from numpy and matplotlib\n"
     ]
    }
   ],
   "source": [
    "%pylab inline\n",
    "import random\n",
    "import numpy as np\n",
    "from tqdm import tnrange\n",
    "from time import time\n",
    "import matplotlib.pyplot as plt\n",
    "from IPython.display import clear_output\n",
    "\n",
    "import torch\n",
    "import torch.nn as nn\n",
    "import torch.nn.functional as F\n",
    "from torch.nn.utils.rnn import pad_sequence\n",
    "\n",
    "from transformers import BertTokenizer, BertModel"
   ]
  },
  {
   "cell_type": "code",
   "execution_count": 0,
   "metadata": {
    "colab": {},
    "colab_type": "code",
    "id": "yd_pGIi3B2X4"
   },
   "outputs": [],
   "source": [
    "random.seed(42)\n",
    "np.random.seed(42)\n",
    "torch.manual_seed(42)\n",
    "if torch.cuda.is_available():\n",
    "    torch.cuda.manual_seed_all(42)"
   ]
  },
  {
   "cell_type": "code",
   "execution_count": 0,
   "metadata": {
    "colab": {},
    "colab_type": "code",
    "id": "UYz7xVqrB2YG"
   },
   "outputs": [],
   "source": [
    "bert_tokenizer = BertTokenizer.from_pretrained('bert-base-uncased')"
   ]
  },
  {
   "cell_type": "code",
   "execution_count": 0,
   "metadata": {
    "colab": {},
    "colab_type": "code",
    "id": "JO2JZo3sB2X7"
   },
   "outputs": [],
   "source": [
    "BATCH_SIZE = 16\n",
    "DEC_SOS_IND = 0\n",
    "DEC_EOS_IND = 1\n",
    "DEC_UNK_IND = 2\n",
    "MAX_SUMMARY_LEN = 502\n",
    "MAX_DOC_LEN = 512\n",
    "N_TRAIN = 44972\n",
    "N_VAL = 5622\n",
    "N_TEST = 5622\n",
    "BERT_DIM = 768"
   ]
  },
  {
   "cell_type": "markdown",
   "metadata": {
    "colab_type": "text",
    "id": "nrXPu6WaFPBn"
   },
   "source": [
    "## Load datasets"
   ]
  },
  {
   "cell_type": "code",
   "execution_count": 0,
   "metadata": {
    "colab": {},
    "colab_type": "code",
    "id": "6n0-JX_FFZh2"
   },
   "outputs": [],
   "source": [
    "train = torch.load('data/train2.0.pt')\n",
    "val = torch.load('data/val2.0.pt')\n",
    "test = torch.load('data/test2.0.pt')"
   ]
  },
  {
   "cell_type": "markdown",
   "metadata": {
    "colab_type": "text",
    "id": "gdnxDzF5B2Yg"
   },
   "source": [
    "## BERT embeddings"
   ]
  },
  {
   "cell_type": "code",
   "execution_count": 0,
   "metadata": {
    "colab": {},
    "colab_type": "code",
    "id": "c_GYFB5vB2Yg"
   },
   "outputs": [],
   "source": [
    "bert_model = BertModel.from_pretrained('bert-base-uncased')"
   ]
  },
  {
   "cell_type": "code",
   "execution_count": 0,
   "metadata": {
    "colab": {},
    "colab_type": "code",
    "id": "hQM4dOUnB2Yj"
   },
   "outputs": [],
   "source": [
    "bert_model = bert_model.cpu()\n",
    "bert_model.eval();"
   ]
  },
  {
   "cell_type": "code",
   "execution_count": 0,
   "metadata": {
    "colab": {},
    "colab_type": "code",
    "id": "SC2ZGbQuB2Yo"
   },
   "outputs": [],
   "source": [
    "def tokenized2batch(data, inds, bert_model, tokenizer):\n",
    "    \n",
    "    def BERTembeds2batch(embeds, sep_inds, first_pad_ind):\n",
    "        if sep_inds.shape[0] == 0:\n",
    "            return embeds[:first_pad_ind].unsqueeze(0), None\n",
    "        batch = []\n",
    "        tmpj = 0\n",
    "        for j in range(sep_inds.shape[0] + 1):\n",
    "            if j != sep_inds.shape[0]:\n",
    "                if sep_inds[j] - tmpj != 0:\n",
    "                    batch.append(embeds[tmpj:sep_inds[j]])\n",
    "                tmpj = sep_inds[j] + 1\n",
    "            else:\n",
    "                batch.append(embeds[tmpj:first_pad_ind])\n",
    "        lens = [s.shape[0] for s in batch]\n",
    "        batch = pad_sequence(batch, batch_first=True, padding_value=0)\n",
    "        pad_mask = torch.ones((batch.shape[0], batch.shape[1]), dtype=bool, device=batch.device)\n",
    "        for i in range(pad_mask.shape[0]):\n",
    "            pad_mask[i, :lens[i]] = False\n",
    "        return batch, pad_mask\n",
    "        \n",
    "    pad_id = tokenizer.encode('[PAD]')[1]\n",
    "    sep_id = tokenizer.encode('[SEP]')[1]\n",
    "    \n",
    "    batch = [0] * inds.shape[0]\n",
    "    first_pad_inds = [0] * inds.shape[0]\n",
    "    for i in range(inds.shape[0]):\n",
    "        batch[i] = data[inds[i]]\n",
    "        offset = 0\n",
    "        while batch[i][-(offset + 1)] == sep_id:\n",
    "            offset += 1\n",
    "        if offset != 0:\n",
    "            batch[i] = batch[i][:offset]\n",
    "        first_pad_inds[i] = batch[i].shape[0]\n",
    "    batch = pad_sequence(batch, batch_first=True, padding_value=pad_id)\n",
    "    \n",
    "    attn_mask = (batch != pad_id).to(torch.float)\n",
    "    \n",
    "    pos = torch.arange(0, batch.shape[1])\n",
    "    pos_ids = torch.zeros_like(batch)\n",
    "    sep_inds = [0] * batch.shape[0]\n",
    "    for i in range(batch.shape[0]):\n",
    "        tmp = pos[batch[i] == sep_id]\n",
    "        sep_inds[i] = tmp\n",
    "        tmpj = 0\n",
    "        for j in range(tmp.shape[0] + 1):\n",
    "            if j != tmp.shape[0]:\n",
    "                pos_ids[i, tmpj:tmp[j] + 1] = pos[:tmp[j] + 1 - tmpj]\n",
    "                tmpj = tmp[j] + 1\n",
    "            else:\n",
    "                pos_ids[i, tmpj:] = pos[:batch.shape[1] - tmpj]\n",
    "                \n",
    "    bert_embeds = None\n",
    "    with torch.no_grad():\n",
    "        model = bert_model.cuda()\n",
    "        batch = batch.cuda()\n",
    "        attn_mask = attn_mask.cuda()\n",
    "        pos_ids = pos_ids.cuda()\n",
    "        bert_embeds = model(batch, attention_mask=attn_mask, position_ids=pos_ids)[0]\n",
    "        del model\n",
    "        del batch\n",
    "        del attn_mask\n",
    "        del pos_ids\n",
    "    \n",
    "    batch = []\n",
    "    for i in range(bert_embeds.shape[0]):\n",
    "        batch.append(BERTembeds2batch(bert_embeds[i], sep_inds[i], first_pad_inds[i]))\n",
    "    return batch"
   ]
  },
  {
   "cell_type": "markdown",
   "metadata": {
    "colab_type": "text",
    "id": "APRcRGvXB2Yq"
   },
   "source": [
    "## Tokenizer for summaries"
   ]
  },
  {
   "cell_type": "code",
   "execution_count": 0,
   "metadata": {
    "colab": {},
    "colab_type": "code",
    "id": "X_TfqxVHB2Yr"
   },
   "outputs": [],
   "source": [
    "class summary_lang():\n",
    "    def __init__(self):\n",
    "        self.word2id = {'<SOS>': DEC_SOS_IND, '<EOS>' : DEC_EOS_IND, '<UNK>' : DEC_UNK_IND}\n",
    "        self.id2word = {DEC_SOS_IND : '<SOS>', DEC_EOS_IND : '<EOS>', DEC_UNK_IND : '<UNK>'}\n",
    "        self.word_counts = {}\n",
    "        self.count = 3\n",
    "        \n",
    "    def __len__(self):\n",
    "        return self.count\n",
    "        \n",
    "    def add_summaries(self, summaries, counter, thr=3):\n",
    "        for summary in summaries:\n",
    "            for word in summary:\n",
    "                if counter[word] <= thr:\n",
    "                    continue\n",
    "                if word in self.word2id:\n",
    "                    self.word_counts[word] += 1\n",
    "                else:\n",
    "                    self.word2id[word] = self.count\n",
    "                    self.id2word[self.count] = word\n",
    "                    self.count += 1\n",
    "                    self.word_counts[word] = 1"
   ]
  },
  {
   "cell_type": "markdown",
   "metadata": {
    "colab_type": "text",
    "id": "A1vcyCMWHsrQ"
   },
   "source": [
    "## Load vocab"
   ]
  },
  {
   "cell_type": "code",
   "execution_count": 0,
   "metadata": {
    "colab": {},
    "colab_type": "code",
    "id": "tHVMbiY4HrkP"
   },
   "outputs": [],
   "source": [
    "sum_lang = torch.load('data/vocab2.0.pt')"
   ]
  },
  {
   "cell_type": "code",
   "execution_count": 0,
   "metadata": {
    "colab": {},
    "colab_type": "code",
    "id": "QA0rsa1sB2Yx"
   },
   "outputs": [],
   "source": [
    "dec_vocab_size = len(sum_lang)"
   ]
  },
  {
   "cell_type": "code",
   "execution_count": 16,
   "metadata": {
    "colab": {
     "base_uri": "https://localhost:8080/",
     "height": 34
    },
    "colab_type": "code",
    "executionInfo": {
     "elapsed": 26184,
     "status": "ok",
     "timestamp": 1589825825131,
     "user": {
      "displayName": "Денис Бурштеин",
      "photoUrl": "",
      "userId": "00444690313210585410"
     },
     "user_tz": -180
    },
    "id": "wMmjmiqVH-Fd",
    "outputId": "ee486882-baaa-4459-c189-a1b322672433"
   },
   "outputs": [
    {
     "data": {
      "text/plain": [
       "49295"
      ]
     },
     "execution_count": 16,
     "metadata": {
      "tags": []
     },
     "output_type": "execute_result"
    }
   ],
   "source": [
    "dec_vocab_size"
   ]
  },
  {
   "cell_type": "markdown",
   "metadata": {
    "colab_type": "text",
    "id": "3c03lYbTGclE"
   },
   "source": [
    "## Load tokenized summaries"
   ]
  },
  {
   "cell_type": "code",
   "execution_count": 0,
   "metadata": {
    "colab": {},
    "colab_type": "code",
    "id": "WZmTXKYKGhFi"
   },
   "outputs": [],
   "source": [
    "train_sum = torch.load('data/train_sum2.0.pt')\n",
    "val_sum = torch.load('data/val_sum2.0.pt')\n",
    "test_sum = torch.load('data/test_sum2.0.pt')"
   ]
  },
  {
   "cell_type": "markdown",
   "metadata": {
    "colab_type": "text",
    "id": "adjInGVMB2ZF"
   },
   "source": [
    "## Training functions"
   ]
  },
  {
   "cell_type": "code",
   "execution_count": 0,
   "metadata": {
    "colab": {},
    "colab_type": "code",
    "id": "6TYzv2IRB2ZG"
   },
   "outputs": [],
   "source": [
    "def train_epoch(model, data, summaries, optimizer):\n",
    "    model.train()\n",
    "    full_losses = []\n",
    "    nll_losses = []\n",
    "    kl_losses = []\n",
    "    inds = np.random.permutation(len(data))\n",
    "    num_batches = int(np.ceil(len(data) / BATCH_SIZE))\n",
    "    for i in tnrange(num_batches):\n",
    "\n",
    "        batch = tokenized2batch(data, inds[i * BATCH_SIZE:(i + 1) * BATCH_SIZE], bert_model, bert_tokenizer)\n",
    "        optimizer.zero_grad()\n",
    "        full_batch, nll_batch, kl_batch = 0.0, 0.0, 0.0\n",
    "        for j in range(len(batch)):\n",
    "            docs, pad_mask = batch[j]\n",
    "            summary = summaries[inds[i * BATCH_SIZE + j]].cuda()\n",
    "            log_probs, mu, logsigma = model(docs, pad_mask, summary[:, :-1])\n",
    "            full, nll, kl = model.full_vae_loss(log_probs, summary[:, 1:], mu, logsigma)\n",
    "            if torch.isnan(full).item() or torch.isnan(nll).item() or torch.isnan(kl).item():\n",
    "                print(mu)\n",
    "                print(logsigma)\n",
    "                print(full)\n",
    "                print(nll)\n",
    "                print(kl)\n",
    "                raise ValueError\n",
    "            full_batch = full_batch + (full / len(batch))\n",
    "            nll_batch = nll_batch + (nll / len(batch))\n",
    "            kl_batch = kl_batch + (kl / len(batch))       \n",
    "        full_batch.backward()\n",
    "        optimizer.step()\n",
    "        \n",
    "        full_losses.append(full_batch.item())\n",
    "        nll_losses.append(nll_batch.item())\n",
    "        kl_losses.append(kl_batch.item())\n",
    "   \n",
    "    return full_losses, nll_losses, kl_losses\n",
    "\n",
    "def val_vae(model, data, summaries):\n",
    "    model.eval()\n",
    "    full_losses = []\n",
    "    nll_losses = []\n",
    "    kl_losses = []\n",
    "    inds = np.arange(len(data))\n",
    "    num_batches = int(np.ceil(len(data) / BATCH_SIZE))\n",
    "    with torch.no_grad():\n",
    "        for i in tnrange(num_batches):\n",
    "\n",
    "            batch = tokenized2batch(data, inds[i * BATCH_SIZE:(i + 1) * BATCH_SIZE], bert_model, bert_tokenizer)\n",
    "\n",
    "            full_batch, nll_batch, kl_batch = 0.0, 0.0, 0.0\n",
    "            for j in range(len(batch)):\n",
    "                docs, pad_mask = batch[j]\n",
    "                summary = summaries[inds[i * BATCH_SIZE + j]].cuda()\n",
    "                log_probs, mu, logsigma = model(docs, pad_mask, summary[:, :-1], deterministic=True)\n",
    "                full, nll, kl = model.full_vae_loss(log_probs, summary[:, 1:], mu, logsigma)\n",
    "                full_batch = full_batch + (full / len(batch))\n",
    "                nll_batch = nll_batch + (nll / len(batch))\n",
    "                kl_batch = kl_batch + (kl / len(batch))\n",
    "\n",
    "            del batch\n",
    "\n",
    "            full_losses.append(full_batch.item())\n",
    "            nll_losses.append(nll_batch.item())\n",
    "            kl_losses.append(kl_batch.item())\n",
    "     \n",
    "    return full_losses, nll_losses, kl_losses\n",
    "\n",
    "def plot_history(train_history, val_history):\n",
    "    plt.figure(figsize=(14, 4))\n",
    "    plt.subplot(131)\n",
    "    plt.title('Full loss (nll + kl)')\n",
    "    plt.plot(train_history[0], label='train', zorder=1)\n",
    "    \n",
    "    points = np.array(val_history[0])\n",
    "    \n",
    "    plt.scatter(points[:, 0], points[:, 1], marker='+', s=180, c='orange', label='val', zorder=2)\n",
    "    plt.xlabel('train steps')\n",
    "    \n",
    "    plt.legend(loc='best')\n",
    "    plt.grid()\n",
    "    \n",
    "    \n",
    "    plt.subplot(132)\n",
    "    plt.title('Nll loss')\n",
    "    plt.plot(train_history[1], label='train', zorder=1)\n",
    "    \n",
    "    points = np.array(val_history[1])\n",
    "    \n",
    "    plt.scatter(points[:, 0], points[:, 1], marker='+', s=180, c='orange', label='val', zorder=2)\n",
    "    plt.xlabel('train steps')\n",
    "    \n",
    "    plt.legend(loc='best')\n",
    "    plt.grid()\n",
    "    \n",
    "    plt.subplot(133)\n",
    "    plt.title('Kl divergence')\n",
    "    plt.plot(train_history[2], label='train', zorder=1)\n",
    "    \n",
    "    points = np.array(val_history[2])\n",
    "    \n",
    "    plt.scatter(points[:, 0], points[:, 1], marker='+', s=180, c='orange', label='val', zorder=2)\n",
    "    plt.xlabel('train steps')\n",
    "    \n",
    "    plt.legend(loc='best')\n",
    "    plt.grid()\n",
    "\n",
    "    plt.tight_layout()\n",
    "    plt.show()\n",
    "\n",
    "def train_vae(model, opt, train, train_sum, val, val_sum, num_epochs, init_epoch=0, train_log=([], [], []), val_log=([], [], [])):\n",
    "    train_full_log, train_nll_log, train_kl_log = train_log\n",
    "    val_full_log, val_nll_log, val_kl_log = val_log\n",
    "    \n",
    "    t1 = time()\n",
    "    \n",
    "    for epoch in range(init_epoch, init_epoch + num_epochs):\n",
    "        tic = time()\n",
    "        full_losses, nll_losses, kl_losses = train_epoch(model, train, train_sum, opt)\n",
    "        tac = time()\n",
    "\n",
    "        tic1 = time()\n",
    "        val_full_losses, val_nll_losses, val_kl_losses = val_vae(model, val, val_sum)\n",
    "        tac1 = time()\n",
    "\n",
    "        train_full_log.extend(full_losses)\n",
    "        train_nll_log.extend(nll_losses)\n",
    "        train_kl_log.extend(kl_losses)\n",
    "\n",
    "        val_full_log.append((np.ceil(len(train) / BATCH_SIZE) * (epoch + 1), np.mean(val_full_losses)))\n",
    "        val_nll_log.append((np.ceil(len(train) / BATCH_SIZE) * (epoch + 1), np.mean(val_nll_losses)))\n",
    "        val_kl_log.append((np.ceil(len(train) / BATCH_SIZE) * (epoch + 1), np.mean(val_kl_losses)))\n",
    "        \n",
    "        checkpoint_state = {'epoch': epoch,\n",
    "                            'state_dict': model.state_dict(),\n",
    "                            'optimizer': opt.state_dict()}\n",
    "        torch.save(checkpoint_state, 'vae_attn/checkpoints/epoch{}.pt'.format(epoch))\n",
    "\n",
    "        losses_log = {'train' : (train_full_log, train_nll_log, train_kl_log),\n",
    "                      'val' : (val_full_log, val_nll_log, val_kl_log)}\n",
    "        torch.save(losses_log, 'vae_attn/losses_log.pt')\n",
    "            \n",
    "        clear_output()\n",
    "        plot_history((train_full_log, train_nll_log, train_kl_log), (val_full_log, val_nll_log, val_kl_log))\n",
    "        t2 = time()\n",
    "        print('EPOCH {}:'.format(epoch))\n",
    "        print('Total time from start: {}min {}s'.format((t2 - t1) // 60, (t2 - t1) % 60))\n",
    "        print('----------------------------------')\n",
    "        print('TRAIN: {}min {}s for epoch\\nMean full loss = {}\\nMean nll loss = {}\\nMean kl loss = {}'.format((tac - tic) // 60,\n",
    "                                                                                                              (tac - tic) % 60,\n",
    "                                                                                                              np.mean(full_losses),\n",
    "                                                                                                              np.mean(nll_losses),\n",
    "                                                                                                              np.mean(kl_losses)))\n",
    "        print('----------------------------------')\n",
    "        print('VAL: {}min {}s for epoch\\nMean full loss = {}\\nMean nll loss = {}\\nMean kl loss = {}'.format((tac1 - tic1) // 60,\n",
    "                                                                                                            (tac1 - tic1) % 60,\n",
    "                                                                                                            val_full_log[-1][1],\n",
    "                                                                                                            val_nll_log[-1][1],\n",
    "                                                                                                            val_kl_log[-1][1]))\n",
    "    \n",
    "    return losses_log"
   ]
  },
  {
   "cell_type": "markdown",
   "metadata": {
    "colab_type": "text",
    "id": "w9ojwXyOB2ZI"
   },
   "source": [
    "## Model"
   ]
  },
  {
   "cell_type": "code",
   "execution_count": 0,
   "metadata": {
    "colab": {},
    "colab_type": "code",
    "id": "InEO0huMB2ZI"
   },
   "outputs": [],
   "source": [
    "# from https://pytorch.org/tutorials/beginner/transformer_tutorial.html\n",
    "class PositionalEncoding(nn.Module):\n",
    "\n",
    "    def __init__(self, d_model, dropout=0.0, max_len=512):\n",
    "        super(PositionalEncoding, self).__init__()\n",
    "        self.dropout = nn.Dropout(p=dropout)\n",
    "        \n",
    "        pe = torch.zeros(max_len, d_model)\n",
    "        position = torch.arange(0, max_len, dtype=torch.float).unsqueeze(1)\n",
    "        div_term = torch.exp(torch.arange(0, d_model, 2).float() * (-math.log(10000.0) / d_model))\n",
    "        pe[:, 0::2] = torch.sin(position * div_term)\n",
    "        pe[:, 1::2] = torch.cos(position * div_term)\n",
    "        pe = pe.unsqueeze(0)\n",
    "        self.register_buffer('pe', pe)\n",
    "\n",
    "    def forward(self, x):\n",
    "        x = x + self.pe[:, :x.size(1), :]\n",
    "        return self.dropout(x)"
   ]
  },
  {
   "cell_type": "code",
   "execution_count": 0,
   "metadata": {
    "colab": {},
    "colab_type": "code",
    "id": "TCSqaEVvB2ZK"
   },
   "outputs": [],
   "source": [
    "# there are some things from https://pytorch.org/docs/stable/_modules/torch/nn/modules/transformer.html\n",
    "class TrDecoder(nn.Module):\n",
    "    def __init__(self, dec_embed_dim, dec_depth, dec_n_heads, dec_feedforward_dim):\n",
    "        super(TrDecoder, self).__init__()\n",
    "        \n",
    "        self.dec_embed_dim = dec_embed_dim\n",
    "        self.dec_depth = dec_depth\n",
    "        self.dec_n_heads = dec_n_heads\n",
    "        self.dec_feedforward_dim = dec_feedforward_dim\n",
    "        \n",
    "        self.transformer_layers = nn.ModuleList([nn.TransformerDecoderLayer(dec_embed_dim,\n",
    "                                                                            dec_n_heads,\n",
    "                                                                            dim_feedforward=dec_feedforward_dim,\n",
    "                                                                            activation='gelu') for i in range(dec_depth)])\n",
    "        \n",
    "    def forward(self, embs, mem, seq_mask, pad_mask=None):\n",
    "        embs = embs.transpose(0, 1)\n",
    "\n",
    "        for i in range(self.dec_depth):\n",
    "            embs = self.transformer_layers[i](embs, mem, tgt_mask=seq_mask, memory_key_padding_mask=pad_mask)\n",
    "            \n",
    "        return embs.transpose(0, 1)\n",
    "    \n",
    "    def generate_square_subsequent_mask(self, sz):\n",
    "        r\"\"\"Generate a square mask for the sequence. The masked positions are filled with float('-inf').\n",
    "            Unmasked positions are filled with float(0.0).\n",
    "        \"\"\"\n",
    "        mask = (torch.triu(torch.ones(sz, sz)) == 1).transpose(0, 1)\n",
    "        mask = mask.float().masked_fill(mask == 0, float('-inf')).masked_fill(mask == 1, float(0.0))\n",
    "        return mask\n",
    "\n",
    "\n",
    "class MDVAE(nn.Module):\n",
    "    def __init__(self, input_size, enc_depth, enc_n_heads, enc_feedforward_dim,\n",
    "                 dec_num_embeds, dec_embed_dim, dec_depth, dec_n_heads, dec_feedforward_dim,\n",
    "                 distr_dim, dict_constants, mode='VAE'):\n",
    "        super(MDVAE, self).__init__()\n",
    "        \n",
    "        # hyperparameters:\n",
    "        self.input_size = input_size\n",
    "        self.enc_depth = enc_depth\n",
    "        self.enc_n_heads = enc_n_heads\n",
    "        self.enc_feedforward_dim = enc_feedforward_dim\n",
    "        self.dec_num_embeds = dec_num_embeds\n",
    "        self.dec_embed_dim = dec_embed_dim\n",
    "        self.dec_depth = dec_depth\n",
    "        self.dec_n_heads = dec_n_heads\n",
    "        self.dec_feedforward_dim = dec_feedforward_dim\n",
    "        self.distr_dim = distr_dim\n",
    "        self.mode = mode\n",
    "        self.DEC_SOS_IND = dict_constants['DEC_SOS_IND']\n",
    "        self.DEC_EOS_IND = dict_constants['DEC_EOS_IND']\n",
    "        self.MAX_SUMMARY_LEN = dict_constants['MAX_SUMMARY_LEN']\n",
    "        self.MAX_DOC_LEN = dict_constants['MAX_DOC_LEN']\n",
    "        \n",
    "        # encoder layers:\n",
    "        self.enc_pos_emb = PositionalEncoding(input_size, 0.0, self.MAX_DOC_LEN)\n",
    "        self.mu_linear = nn.Linear(input_size, distr_dim)\n",
    "        self.logsigma_linear = None\n",
    "        if mode == 'VAE':\n",
    "            self.logsigma_linear = nn.Linear(input_size, distr_dim)\n",
    "        elif mode != 'AE':\n",
    "            raise ValueError('Unknown mode: must be \"VAE\" or \"AE\", not {}'.format(mode))\n",
    "        enc_layer = nn.TransformerEncoderLayer(d_model=input_size,\n",
    "                                               nhead=enc_n_heads,\n",
    "                                               dim_feedforward=enc_feedforward_dim,\n",
    "                                               activation=\"gelu\")\n",
    "        self.document_encoder = nn.TransformerEncoder(enc_layer, num_layers=enc_depth)\n",
    "        self.doc_encoder_linear = nn.Linear(input_size * 2, 1, bias=False)\n",
    "        \n",
    "        # decoder layers:\n",
    "        self.decoder_emb = nn.Embedding(dec_num_embeds, dec_embed_dim)\n",
    "        self.dec_pos_emb = PositionalEncoding(dec_embed_dim, 0.0, self.MAX_SUMMARY_LEN)\n",
    "        self.dec_enc_to_mem = nn.Linear(input_size, dec_embed_dim)\n",
    "        self.dec_latent_to_add_mem = nn.Linear(distr_dim, dec_embed_dim)\n",
    "        self.decoder = TrDecoder(self.dec_embed_dim, self.dec_depth, self.dec_n_heads, self.dec_feedforward_dim)\n",
    "        seq_mask = self.decoder.generate_square_subsequent_mask(self.MAX_SUMMARY_LEN)\n",
    "        self.register_buffer('seq_mask', seq_mask)\n",
    "        self.decoder_linear1 = nn.Linear(dec_embed_dim, dec_embed_dim)\n",
    "        self.decoder_linear2 = nn.Linear(dec_embed_dim, dec_num_embeds)\n",
    "    \n",
    "    def encode_vae(self, inputs, pad_mask=None):\n",
    "        # inputs: (n_docs, n_tokens, input_size)\n",
    "\n",
    "        # BERT embeddings per document + positional embeddings to document embeddings:\n",
    "        x = self.enc_pos_emb(inputs).transpose(0, 1)\n",
    "        x = self.document_encoder(x, src_key_padding_mask=pad_mask).transpose(0, 1)\n",
    "        if pad_mask is None:\n",
    "            doc_embeds = torch.mean(x, dim=1)\n",
    "        else:\n",
    "            not_pad_mask = torch.logical_not(pad_mask)\n",
    "            doc_embeds = torch.sum(x * not_pad_mask.unsqueeze(2), dim=1) / torch.sum(not_pad_mask, dim=1).view(-1, 1)\n",
    "\n",
    "        # document embeddings to set-of-documents embedding:\n",
    "        if doc_embeds.shape[0] == 1:       # only 1 document in inputs\n",
    "            set_of_docs_emb = doc_embeds\n",
    "        else:                              # more than 1 document in inputs\n",
    "            d_sum = torch.sum(doc_embeds, dim=0)\n",
    "            d_conc = torch.cat((doc_embeds, d_sum.view(1, -1).expand(doc_embeds.shape[0], -1)), -1)\n",
    "            weights = self.doc_encoder_linear(d_conc)\n",
    "            weights = F.softmax(weights, dim=0)\n",
    "            set_of_docs_emb = torch.mm(weights.view(1, -1), doc_embeds)\n",
    "            \n",
    "        # set-of-documents embedding to mu and logvar:\n",
    "        mu = self.mu_linear(set_of_docs_emb)\n",
    "        logsigma = self.logsigma_linear(set_of_docs_emb)\n",
    "        if pad_mask is None:\n",
    "            return mu, logsigma, (x.reshape((-1, x.shape[2])).unsqueeze(1), None)\n",
    "        else:\n",
    "            return mu, logsigma, (x.reshape((-1, x.shape[2])).unsqueeze(1), pad_mask.reshape((1, -1)))\n",
    "    \n",
    "    def encode_ae(self, inputs, pad_mask=None):\n",
    "        # inputs: (n_docs, n_tokens, input_size)\n",
    "        \n",
    "        # BERT embeddings per document + positional embeddings to document embeddings:\n",
    "        x = self.enc_pos_emb(inputs).transpose(0, 1)\n",
    "        x = self.document_encoder(x, src_key_padding_mask=pad_mask).transpose(0, 1)\n",
    "        if pad_mask is None:\n",
    "            doc_embeds = torch.mean(x, dim=1)\n",
    "        else:\n",
    "            not_pad_mask = torch.logical_not(pad_mask)\n",
    "            doc_embeds = torch.sum(x * not_pad_mask.unsqueeze(2), dim=1) / torch.sum(not_pad_mask, dim=1).view(-1, 1)\n",
    "        \n",
    "        # document embeddings to set-of-documents embedding:\n",
    "        if doc_embeds.shape[0] == 1:       # only 1 document in inputs\n",
    "            set_of_docs_emb = doc_embeds\n",
    "        else:                              # more than 1 document in inputs\n",
    "            d_sum = torch.sum(doc_embeds, dim=0)\n",
    "            d_conc = torch.cat((doc_embeds, d_sum.view(1, -1).expand(doc_embeds.shape[0], -1)), -1)\n",
    "            weights = self.doc_encoder_linear(d_conc)\n",
    "            weights = F.softmax(weights, dim=0)\n",
    "            set_of_docs_emb = torch.mm(weights.view(1, -1), doc_embeds)\n",
    "        \n",
    "        # set-of-documents embedding to mu:\n",
    "        mu = self.mu_linear(set_of_docs_emb)\n",
    "        if pad_mask is None:\n",
    "            return mu, (x.reshape((-1, x.shape[2])).unsqueeze(1), None)\n",
    "        else:\n",
    "            return mu, (x.reshape((-1, x.shape[2])).unsqueeze(1), pad_mask.reshape((1, -1)))\n",
    "    \n",
    "    def reparam_sample(self, mu, logsigma):\n",
    "        std = torch.exp(0.5 * logsigma)\n",
    "        eps = torch.randn_like(std)\n",
    "        return eps * std + mu\n",
    "    \n",
    "    def decode(self, z, memory, pad_mask=None, target_summary=None, max_summary_len=None):\n",
    "        # teacher forcing:\n",
    "        if target_summary is not None:\n",
    "            if target_summary.shape[1] > self.MAX_SUMMARY_LEN:\n",
    "                raise ValueError(\"target_summary's len must be <= MAX_SUMMARY_LEN = {}\".format(self.MAX_SUMMARY_LEN))\n",
    "            embs = self.decoder_emb(target_summary)\n",
    "            embs = self.dec_pos_emb(embs)\n",
    "            mem = self.dec_enc_to_mem(memory)\n",
    "            add_mem = self.dec_latent_to_add_mem(z.view(1, 1, -1))\n",
    "            embs = embs + add_mem\n",
    "            decoded = self.decoder(embs, mem=mem, seq_mask=self.seq_mask[:embs.shape[1], :embs.shape[1]], pad_mask=pad_mask)\n",
    "            return F.log_softmax(self.decoder_linear2(F.relu(self.decoder_linear1(decoded))), dim=-1)\n",
    "        # autoregressive one-by-one:\n",
    "        else:\n",
    "            if max_summary_len is None:\n",
    "                max_len = self.MAX_SUMMARY_LEN\n",
    "            else:\n",
    "                max_len = min(max_summary_len, self.MAX_SUMMARY_LEN)\n",
    "            inds = [self.DEC_SOS_IND]\n",
    "            embs = self.decoder_emb(torch.tensor([inds], dtype=torch.long, device=z.device))\n",
    "            embs = self.dec_pos_emb(embs)\n",
    "            mem = self.dec_enc_to_mem(memory)\n",
    "            add_mem = self.dec_latent_to_add_mem(z.view(1, 1, -1))\n",
    "            embs = embs + add_mem\n",
    "            log_probs = None\n",
    "            for i in range(max_len - 2):\n",
    "                decoded = self.decoder(embs, mem=mem, seq_mask=self.seq_mask[:embs.shape[1], :embs.shape[1]], pad_mask=pad_mask)\n",
    "                log_probs = F.log_softmax(self.decoder_linear2(F.relu(self.decoder_linear1(decoded))), dim=-1)\n",
    "                next_ind = torch.argmax(log_probs, dim=-1).view(-1)[-1].item()\n",
    "                #next_ind = torch.multinomial(torch.exp(log_probs[0, -1].view(-1)), 1).item()\n",
    "                if next_ind == self.DEC_EOS_IND:\n",
    "                    return log_probs\n",
    "                inds.append(next_ind)\n",
    "                embs = self.decoder_emb(torch.tensor([inds], dtype=torch.long, device=z.device))\n",
    "                embs = self.dec_pos_emb(embs)\n",
    "                embs = embs + add_mem\n",
    "            return log_probs\n",
    "            \n",
    "    def forward(self, inputs, pad_mask=None, summary=None, max_summary_len=None, deterministic=False):\n",
    "        # inputs: (n_docs, n_sentences, input_size)\n",
    "        \n",
    "        if self.mode == 'VAE':\n",
    "            if not deterministic:\n",
    "                mu, logsigma, (mem, mem_pad) = self.encode_vae(inputs, pad_mask)\n",
    "                z = self.reparam_sample(mu, logsigma)\n",
    "                return [self.decode(z, mem, mem_pad, summary, max_summary_len), mu, logsigma]\n",
    "            else:\n",
    "                mu, logsigma, (mem, mem_pad) = self.encode_vae(inputs, pad_mask)\n",
    "                return [self.decode(mu, mem, mem_pad, summary, max_summary_len), mu, logsigma]\n",
    "        else:\n",
    "            z, (mem, mem_pad) = self.encode_ae(inputs, pad_mask)\n",
    "            return self.decode(z, mem, mem_pad, summary, max_summary_len), z\n",
    "    \n",
    "    # generate text summary\n",
    "    def summarize(self, inp, dec_vocab_ind2word, pad_mask=None, deterministic=True, max_summary_len=None):  \n",
    "        # deterministic: latent vector z equals mu if True, else z is sampled\n",
    "        \n",
    "        with torch.no_grad():\n",
    "            m = self.training\n",
    "            self.eval()\n",
    "            if deterministic or self.mode == 'AE':\n",
    "                z, (mem, mem_pad) = self.encode_ae(inp, pad_mask)\n",
    "            else:\n",
    "                mu, logsigma, (mem, mem_pad) = self.encode_vae(inp, pad_mask)\n",
    "                z = self.reparam_sample(mu, logsigma)\n",
    "            summary_inds = torch.reshape(torch.argmax(self.decode(z, mem, mem_pad, None, max_summary_len), dim=-1), (-1,))\n",
    "            summary = ''\n",
    "            for ind in summary_inds:\n",
    "                summary += dec_vocab_ind2word[ind.item()] + ' '\n",
    "            self.train(m)\n",
    "            return summary[:-1]\n",
    "    \n",
    "    def full_vae_loss(self, pred, target, mu, logsigma, reduction='mean'):\n",
    "        nll = F.nll_loss(pred.squeeze(0), target.view(-1), reduction=reduction)\n",
    "        kl = -0.5 * torch.sum(1 + logsigma - mu**2 - logsigma.exp())\n",
    "        if reduction == 'mean':\n",
    "            kl_weight = 1 / target.view(-1).shape[0]\n",
    "        else:\n",
    "            kl_weight = 1\n",
    "        full = nll + kl_weight * kl\n",
    "        #full = nll + kl\n",
    "        return full, nll, kl"
   ]
  },
  {
   "cell_type": "markdown",
   "metadata": {
    "colab_type": "text",
    "id": "z334P6ZtB2ZN"
   },
   "source": [
    "## Training"
   ]
  },
  {
   "cell_type": "code",
   "execution_count": 0,
   "metadata": {
    "colab": {},
    "colab_type": "code",
    "id": "ItvccOUYB2ZN"
   },
   "outputs": [],
   "source": [
    "dict_constants = {}\n",
    "dict_constants['DEC_SOS_IND'] = DEC_SOS_IND\n",
    "dict_constants['DEC_EOS_IND'] = DEC_EOS_IND\n",
    "dict_constants['MAX_SUMMARY_LEN'] = MAX_SUMMARY_LEN\n",
    "dict_constants['MAX_DOC_LEN'] = MAX_DOC_LEN"
   ]
  },
  {
   "cell_type": "code",
   "execution_count": 0,
   "metadata": {
    "colab": {},
    "colab_type": "code",
    "id": "xQhtbI7_B2ZQ"
   },
   "outputs": [],
   "source": [
    "model = MDVAE(input_size=BERT_DIM,\n",
    "              enc_depth=4,\n",
    "              enc_n_heads=8,\n",
    "              enc_feedforward_dim=2048,\n",
    "              dec_num_embeds=dec_vocab_size,\n",
    "              dec_embed_dim=256,\n",
    "              dec_depth=4,\n",
    "              dec_n_heads=8,\n",
    "              dec_feedforward_dim=1024,\n",
    "              distr_dim=256,\n",
    "              dict_constants=dict_constants,\n",
    "              mode='VAE')"
   ]
  },
  {
   "cell_type": "code",
   "execution_count": 23,
   "metadata": {
    "colab": {
     "base_uri": "https://localhost:8080/",
     "height": 34
    },
    "colab_type": "code",
    "executionInfo": {
     "elapsed": 29218,
     "status": "ok",
     "timestamp": 1589825830229,
     "user": {
      "displayName": "Денис Бурштеин",
      "photoUrl": "",
      "userId": "00444690313210585410"
     },
     "user_tz": -180
    },
    "id": "qpNTosS5B2ZS",
    "outputId": "ff85412c-0689-4b9e-d69a-07c1dfd449a2"
   },
   "outputs": [
    {
     "data": {
      "text/plain": [
       "52281743"
      ]
     },
     "execution_count": 23,
     "metadata": {
      "tags": []
     },
     "output_type": "execute_result"
    }
   ],
   "source": [
    "np.sum([p.numel() for p in model.parameters()])"
   ]
  },
  {
   "cell_type": "code",
   "execution_count": 24,
   "metadata": {
    "colab": {
     "base_uri": "https://localhost:8080/",
     "height": 34
    },
    "colab_type": "code",
    "executionInfo": {
     "elapsed": 28951,
     "status": "ok",
     "timestamp": 1589825830230,
     "user": {
      "displayName": "Денис Бурштеин",
      "photoUrl": "",
      "userId": "00444690313210585410"
     },
     "user_tz": -180
    },
    "id": "roIpFxbxB2ZV",
    "outputId": "3ccf0bd2-6957-4ee4-d959-4459905c2fbd"
   },
   "outputs": [
    {
     "data": {
      "text/plain": [
       "52281743"
      ]
     },
     "execution_count": 24,
     "metadata": {
      "tags": []
     },
     "output_type": "execute_result"
    }
   ],
   "source": [
    "np.sum([p.numel() for p in model.parameters() if p.requires_grad])"
   ]
  },
  {
   "cell_type": "code",
   "execution_count": 0,
   "metadata": {
    "colab": {},
    "colab_type": "code",
    "id": "xScjF-Sl2D2l"
   },
   "outputs": [],
   "source": [
    "#checkpoint = torch.load('vae_attn/checkpoints/epoch{}.pt'.format(14))\n",
    "#losses_log = torch.load('vae_attn/losses_log.pt')"
   ]
  },
  {
   "cell_type": "code",
   "execution_count": 0,
   "metadata": {
    "colab": {},
    "colab_type": "code",
    "id": "t5AHaFLLB2ZX"
   },
   "outputs": [],
   "source": [
    "#model.load_state_dict(checkpoint['state_dict'])\n",
    "model = model.cuda()\n",
    "opt = torch.optim.Adam(model.parameters(), lr=0.0001)\n",
    "#opt.load_state_dict(checkpoint['optimizer'])\n",
    "#for g in opt.param_groups:\n",
    "#    g['lr'] = 0.0008"
   ]
  },
  {
   "cell_type": "code",
   "execution_count": 0,
   "metadata": {
    "colab": {},
    "colab_type": "code",
    "id": "-TKA9kKw2v7_"
   },
   "outputs": [],
   "source": [
    "init_ep = checkpoint['epoch'] + 1"
   ]
  },
  {
   "cell_type": "code",
   "execution_count": 0,
   "metadata": {
    "colab": {
     "base_uri": "https://localhost:8080/",
     "height": 533,
     "referenced_widgets": [
      "97478e116824411dad78f4b93d4cfed5",
      "5fa1c187833d406583dbd9d564cc4851",
      "baf7388ae69e44618312c237ccc330e3",
      "567363bd903f404cb9983ece23c0344e",
      "7ac3422b2cb64095952d6f2a9a64c3db",
      "1d7e4bc83fac4236aa5fadfe1e1a121d",
      "5b81361cec5e44a78fb3687d034d5777",
      "52f453523bb642439040e8334a59ca41",
      "d1fedaf7769e4ddb8b4b363926224f6e",
      "b3b7e443a06e4547ac218af6bf5423c8",
      "1fa2ac0040b74395a877d85b6c65f6a4",
      "4f12364b3dac427ea6816b7fcd9c0029",
      "c32da123e4304553bbca64d839204365",
      "d947a5f07d2c41f1b62ad506e70c0e41",
      "7580472018e442eabbee92f31357f068",
      "95860787fd044da19701a707cf45bb13",
      "63064aaa5a5643b5866d40f445501802",
      "16528b3bac1043aea11f8ce19b66e5dc",
      "c76d9d0ae84a4f7e8b74798ed008293e",
      "dfb3f9e9993948feb15b97a70e3c7ff8",
      "65b3fad2ee3a478d97babaa4e100ccc3",
      "e3478a6bfd7f49e5a656f1ae099417be",
      "2ee879ed253f491198878584d3ba24c9",
      "63af5b4c972243fda86a6de7b864d2e8"
     ]
    },
    "colab_type": "code",
    "executionInfo": {
     "elapsed": 21580901,
     "status": "error",
     "timestamp": 1589668331316,
     "user": {
      "displayName": "Денис Бурштеин",
      "photoUrl": "",
      "userId": "00444690313210585410"
     },
     "user_tz": -180
    },
    "id": "w8vZxj1uB2ZZ",
    "outputId": "b0faca03-ee09-4403-9b98-e165443c94c7"
   },
   "outputs": [
    {
     "data": {
      "image/png": "[encoded data removed]",
      "text/plain": [
       "<Figure size 1008x288 with 3 Axes>"
      ]
     },
     "metadata": {
      "needs_background": "light",
      "tags": []
     },
     "output_type": "display_data"
    },
    {
     "name": "stdout",
     "output_type": "stream",
     "text": [
      "EPOCH 15:\n",
      "Total time from start: 44.0min 44.565733671188354s\n",
      "----------------------------------\n",
      "TRAIN: 41.0min 47.217060804367065s for epoch\n",
      "Mean full loss = 4.037225985688189\n",
      "Mean nll loss = 4.0370403190220605\n",
      "Mean kl loss = 0.04298572242790081\n",
      "----------------------------------\n",
      "VAL: 2.0min 54.444171667099s for epoch\n",
      "Mean full loss = 4.375735735351389\n",
      "Mean nll loss = 4.375541426918724\n",
      "Mean kl loss = 0.044588663668202404\n"
     ]
    },
    {
     "data": {
      "application/vnd.jupyter.widget-view+json": {
       "model_id": "63064aaa5a5643b5866d40f445501802",
       "version_major": 2,
       "version_minor": 0
      },
      "text/plain": [
       "HBox(children=(FloatProgress(value=0.0, max=2811.0), HTML(value='')))"
      ]
     },
     "metadata": {
      "tags": []
     },
     "output_type": "display_data"
    }
   ],
   "source": [
    "#losses_log = train_vae(model, opt, train, train_sum, val, val_sum, 3, init_epoch=init_ep, train_log=losses_log['train'], val_log=losses_log['val'])\n",
    "losses_log = train_vae(model, opt, train, train_sum, val, val_sum, 10, init_epoch=0, train_log=([], [], []), val_log=([], [], []))"
   ]
  },
  {
   "cell_type": "code",
   "execution_count": 0,
   "metadata": {
    "colab": {},
    "colab_type": "code",
    "id": "19Oe3N55OPfE"
   },
   "outputs": [],
   "source": [
    "#model.eval()\n",
    "#model.summarize(torch.randn((3, 150, 768)).cuda() + 10, sum_lang.id2word, max_summary_len=20)"
   ]
  },
  {
   "cell_type": "code",
   "execution_count": 0,
   "metadata": {
    "colab": {},
    "colab_type": "code",
    "id": "yUd7EoG_fen4"
   },
   "outputs": [],
   "source": []
  }
 ],
 "metadata": {
  "accelerator": "GPU",
  "anaconda-cloud": {},
  "colab": {
   "collapsed_sections": [],
   "name": "MDVAE attn training (vae).ipynb",
   "provenance": []
  },
  "kernelspec": {
   "display_name": "Python 3",
   "language": "python",
   "name": "python3"
  },
  "language_info": {
   "codemirror_mode": {
    "name": "ipython",
    "version": 3
   },
   "file_extension": ".py",
   "mimetype": "text/x-python",
   "name": "python",
   "nbconvert_exporter": "python",
   "pygments_lexer": "ipython3",
   "version": "3.7.6"
  },
  "widgets": {
   "application/vnd.jupyter.widget-state+json": {
    "16528b3bac1043aea11f8ce19b66e5dc": {
     "model_module": "@jupyter-widgets/base",
     "model_name": "LayoutModel",
     "state": {
      "_model_module": "@jupyter-widgets/base",
      "_model_module_version": "1.2.0",
      "_model_name": "LayoutModel",
      "_view_count": null,
      "_view_module": "@jupyter-widgets/base",
      "_view_module_version": "1.2.0",
      "_view_name": "LayoutView",
      "align_content": null,
      "align_items": null,
      "align_self": null,
      "border": null,
      "bottom": null,
      "display": null,
      "flex": null,
      "flex_flow": null,
      "grid_area": null,
      "grid_auto_columns": null,
      "grid_auto_flow": null,
      "grid_auto_rows": null,
      "grid_column": null,
      "grid_gap": null,
      "grid_row": null,
      "grid_template_areas": null,
      "grid_template_columns": null,
      "grid_template_rows": null,
      "height": null,
      "justify_content": null,
      "justify_items": null,
      "left": null,
      "margin": null,
      "max_height": null,
      "max_width": null,
      "min_height": null,
      "min_width": null,
      "object_fit": null,
      "object_position": null,
      "order": null,
      "overflow": null,
      "overflow_x": null,
      "overflow_y": null,
      "padding": null,
      "right": null,
      "top": null,
      "visibility": null,
      "width": null
     }
    },
    "1d7e4bc83fac4236aa5fadfe1e1a121d": {
     "model_module": "@jupyter-widgets/base",
     "model_name": "LayoutModel",
     "state": {
      "_model_module": "@jupyter-widgets/base",
      "_model_module_version": "1.2.0",
      "_model_name": "LayoutModel",
      "_view_count": null,
      "_view_module": "@jupyter-widgets/base",
      "_view_module_version": "1.2.0",
      "_view_name": "LayoutView",
      "align_content": null,
      "align_items": null,
      "align_self": null,
      "border": null,
      "bottom": null,
      "display": null,
      "flex": null,
      "flex_flow": null,
      "grid_area": null,
      "grid_auto_columns": null,
      "grid_auto_flow": null,
      "grid_auto_rows": null,
      "grid_column": null,
      "grid_gap": null,
      "grid_row": null,
      "grid_template_areas": null,
      "grid_template_columns": null,
      "grid_template_rows": null,
      "height": null,
      "justify_content": null,
      "justify_items": null,
      "left": null,
      "margin": null,
      "max_height": null,
      "max_width": null,
      "min_height": null,
      "min_width": null,
      "object_fit": null,
      "object_position": null,
      "order": null,
      "overflow": null,
      "overflow_x": null,
      "overflow_y": null,
      "padding": null,
      "right": null,
      "top": null,
      "visibility": null,
      "width": null
     }
    },
    "1fa2ac0040b74395a877d85b6c65f6a4": {
     "model_module": "@jupyter-widgets/controls",
     "model_name": "FloatProgressModel",
     "state": {
      "_dom_classes": [],
      "_model_module": "@jupyter-widgets/controls",
      "_model_module_version": "1.5.0",
      "_model_name": "FloatProgressModel",
      "_view_count": null,
      "_view_module": "@jupyter-widgets/controls",
      "_view_module_version": "1.5.0",
      "_view_name": "ProgressView",
      "bar_style": "success",
      "description": "100%",
      "description_tooltip": null,
      "layout": "IPY_MODEL_d947a5f07d2c41f1b62ad506e70c0e41",
      "max": 352,
      "min": 0,
      "orientation": "horizontal",
      "style": "IPY_MODEL_c32da123e4304553bbca64d839204365",
      "value": 352
     }
    },
    "2ee879ed253f491198878584d3ba24c9": {
     "model_module": "@jupyter-widgets/controls",
     "model_name": "DescriptionStyleModel",
     "state": {
      "_model_module": "@jupyter-widgets/controls",
      "_model_module_version": "1.5.0",
      "_model_name": "DescriptionStyleModel",
      "_view_count": null,
      "_view_module": "@jupyter-widgets/base",
      "_view_module_version": "1.2.0",
      "_view_name": "StyleView",
      "description_width": ""
     }
    },
    "4f12364b3dac427ea6816b7fcd9c0029": {
     "model_module": "@jupyter-widgets/controls",
     "model_name": "HTMLModel",
     "state": {
      "_dom_classes": [],
      "_model_module": "@jupyter-widgets/controls",
      "_model_module_version": "1.5.0",
      "_model_name": "HTMLModel",
      "_view_count": null,
      "_view_module": "@jupyter-widgets/controls",
      "_view_module_version": "1.5.0",
      "_view_name": "HTMLView",
      "description": "",
      "description_tooltip": null,
      "layout": "IPY_MODEL_95860787fd044da19701a707cf45bb13",
      "placeholder": "​",
      "style": "IPY_MODEL_7580472018e442eabbee92f31357f068",
      "value": " 352/352 [02:56&lt;00:00,  1.99it/s]"
     }
    },
    "52f453523bb642439040e8334a59ca41": {
     "model_module": "@jupyter-widgets/base",
     "model_name": "LayoutModel",
     "state": {
      "_model_module": "@jupyter-widgets/base",
      "_model_module_version": "1.2.0",
      "_model_name": "LayoutModel",
      "_view_count": null,
      "_view_module": "@jupyter-widgets/base",
      "_view_module_version": "1.2.0",
      "_view_name": "LayoutView",
      "align_content": null,
      "align_items": null,
      "align_self": null,
      "border": null,
      "bottom": null,
      "display": null,
      "flex": null,
      "flex_flow": null,
      "grid_area": null,
      "grid_auto_columns": null,
      "grid_auto_flow": null,
      "grid_auto_rows": null,
      "grid_column": null,
      "grid_gap": null,
      "grid_row": null,
      "grid_template_areas": null,
      "grid_template_columns": null,
      "grid_template_rows": null,
      "height": null,
      "justify_content": null,
      "justify_items": null,
      "left": null,
      "margin": null,
      "max_height": null,
      "max_width": null,
      "min_height": null,
      "min_width": null,
      "object_fit": null,
      "object_position": null,
      "order": null,
      "overflow": null,
      "overflow_x": null,
      "overflow_y": null,
      "padding": null,
      "right": null,
      "top": null,
      "visibility": null,
      "width": null
     }
    },
    "567363bd903f404cb9983ece23c0344e": {
     "model_module": "@jupyter-widgets/controls",
     "model_name": "HTMLModel",
     "state": {
      "_dom_classes": [],
      "_model_module": "@jupyter-widgets/controls",
      "_model_module_version": "1.5.0",
      "_model_name": "HTMLModel",
      "_view_count": null,
      "_view_module": "@jupyter-widgets/controls",
      "_view_module_version": "1.5.0",
      "_view_name": "HTMLView",
      "description": "",
      "description_tooltip": null,
      "layout": "IPY_MODEL_52f453523bb642439040e8334a59ca41",
      "placeholder": "​",
      "style": "IPY_MODEL_5b81361cec5e44a78fb3687d034d5777",
      "value": " 2811/2811 [41:47&lt;00:00,  1.12it/s]"
     }
    },
    "5b81361cec5e44a78fb3687d034d5777": {
     "model_module": "@jupyter-widgets/controls",
     "model_name": "DescriptionStyleModel",
     "state": {
      "_model_module": "@jupyter-widgets/controls",
      "_model_module_version": "1.5.0",
      "_model_name": "DescriptionStyleModel",
      "_view_count": null,
      "_view_module": "@jupyter-widgets/base",
      "_view_module_version": "1.2.0",
      "_view_name": "StyleView",
      "description_width": ""
     }
    },
    "5fa1c187833d406583dbd9d564cc4851": {
     "model_module": "@jupyter-widgets/base",
     "model_name": "LayoutModel",
     "state": {
      "_model_module": "@jupyter-widgets/base",
      "_model_module_version": "1.2.0",
      "_model_name": "LayoutModel",
      "_view_count": null,
      "_view_module": "@jupyter-widgets/base",
      "_view_module_version": "1.2.0",
      "_view_name": "LayoutView",
      "align_content": null,
      "align_items": null,
      "align_self": null,
      "border": null,
      "bottom": null,
      "display": null,
      "flex": null,
      "flex_flow": null,
      "grid_area": null,
      "grid_auto_columns": null,
      "grid_auto_flow": null,
      "grid_auto_rows": null,
      "grid_column": null,
      "grid_gap": null,
      "grid_row": null,
      "grid_template_areas": null,
      "grid_template_columns": null,
      "grid_template_rows": null,
      "height": null,
      "justify_content": null,
      "justify_items": null,
      "left": null,
      "margin": null,
      "max_height": null,
      "max_width": null,
      "min_height": null,
      "min_width": null,
      "object_fit": null,
      "object_position": null,
      "order": null,
      "overflow": null,
      "overflow_x": null,
      "overflow_y": null,
      "padding": null,
      "right": null,
      "top": null,
      "visibility": null,
      "width": null
     }
    },
    "63064aaa5a5643b5866d40f445501802": {
     "model_module": "@jupyter-widgets/controls",
     "model_name": "HBoxModel",
     "state": {
      "_dom_classes": [],
      "_model_module": "@jupyter-widgets/controls",
      "_model_module_version": "1.5.0",
      "_model_name": "HBoxModel",
      "_view_count": null,
      "_view_module": "@jupyter-widgets/controls",
      "_view_module_version": "1.5.0",
      "_view_name": "HBoxView",
      "box_style": "",
      "children": [
       "IPY_MODEL_c76d9d0ae84a4f7e8b74798ed008293e",
       "IPY_MODEL_dfb3f9e9993948feb15b97a70e3c7ff8"
      ],
      "layout": "IPY_MODEL_16528b3bac1043aea11f8ce19b66e5dc"
     }
    },
    "63af5b4c972243fda86a6de7b864d2e8": {
     "model_module": "@jupyter-widgets/base",
     "model_name": "LayoutModel",
     "state": {
      "_model_module": "@jupyter-widgets/base",
      "_model_module_version": "1.2.0",
      "_model_name": "LayoutModel",
      "_view_count": null,
      "_view_module": "@jupyter-widgets/base",
      "_view_module_version": "1.2.0",
      "_view_name": "LayoutView",
      "align_content": null,
      "align_items": null,
      "align_self": null,
      "border": null,
      "bottom": null,
      "display": null,
      "flex": null,
      "flex_flow": null,
      "grid_area": null,
      "grid_auto_columns": null,
      "grid_auto_flow": null,
      "grid_auto_rows": null,
      "grid_column": null,
      "grid_gap": null,
      "grid_row": null,
      "grid_template_areas": null,
      "grid_template_columns": null,
      "grid_template_rows": null,
      "height": null,
      "justify_content": null,
      "justify_items": null,
      "left": null,
      "margin": null,
      "max_height": null,
      "max_width": null,
      "min_height": null,
      "min_width": null,
      "object_fit": null,
      "object_position": null,
      "order": null,
      "overflow": null,
      "overflow_x": null,
      "overflow_y": null,
      "padding": null,
      "right": null,
      "top": null,
      "visibility": null,
      "width": null
     }
    },
    "65b3fad2ee3a478d97babaa4e100ccc3": {
     "model_module": "@jupyter-widgets/controls",
     "model_name": "ProgressStyleModel",
     "state": {
      "_model_module": "@jupyter-widgets/controls",
      "_model_module_version": "1.5.0",
      "_model_name": "ProgressStyleModel",
      "_view_count": null,
      "_view_module": "@jupyter-widgets/base",
      "_view_module_version": "1.2.0",
      "_view_name": "StyleView",
      "bar_color": null,
      "description_width": "initial"
     }
    },
    "7580472018e442eabbee92f31357f068": {
     "model_module": "@jupyter-widgets/controls",
     "model_name": "DescriptionStyleModel",
     "state": {
      "_model_module": "@jupyter-widgets/controls",
      "_model_module_version": "1.5.0",
      "_model_name": "DescriptionStyleModel",
      "_view_count": null,
      "_view_module": "@jupyter-widgets/base",
      "_view_module_version": "1.2.0",
      "_view_name": "StyleView",
      "description_width": ""
     }
    },
    "7ac3422b2cb64095952d6f2a9a64c3db": {
     "model_module": "@jupyter-widgets/controls",
     "model_name": "ProgressStyleModel",
     "state": {
      "_model_module": "@jupyter-widgets/controls",
      "_model_module_version": "1.5.0",
      "_model_name": "ProgressStyleModel",
      "_view_count": null,
      "_view_module": "@jupyter-widgets/base",
      "_view_module_version": "1.2.0",
      "_view_name": "StyleView",
      "bar_color": null,
      "description_width": "initial"
     }
    },
    "95860787fd044da19701a707cf45bb13": {
     "model_module": "@jupyter-widgets/base",
     "model_name": "LayoutModel",
     "state": {
      "_model_module": "@jupyter-widgets/base",
      "_model_module_version": "1.2.0",
      "_model_name": "LayoutModel",
      "_view_count": null,
      "_view_module": "@jupyter-widgets/base",
      "_view_module_version": "1.2.0",
      "_view_name": "LayoutView",
      "align_content": null,
      "align_items": null,
      "align_self": null,
      "border": null,
      "bottom": null,
      "display": null,
      "flex": null,
      "flex_flow": null,
      "grid_area": null,
      "grid_auto_columns": null,
      "grid_auto_flow": null,
      "grid_auto_rows": null,
      "grid_column": null,
      "grid_gap": null,
      "grid_row": null,
      "grid_template_areas": null,
      "grid_template_columns": null,
      "grid_template_rows": null,
      "height": null,
      "justify_content": null,
      "justify_items": null,
      "left": null,
      "margin": null,
      "max_height": null,
      "max_width": null,
      "min_height": null,
      "min_width": null,
      "object_fit": null,
      "object_position": null,
      "order": null,
      "overflow": null,
      "overflow_x": null,
      "overflow_y": null,
      "padding": null,
      "right": null,
      "top": null,
      "visibility": null,
      "width": null
     }
    },
    "97478e116824411dad78f4b93d4cfed5": {
     "model_module": "@jupyter-widgets/controls",
     "model_name": "HBoxModel",
     "state": {
      "_dom_classes": [],
      "_model_module": "@jupyter-widgets/controls",
      "_model_module_version": "1.5.0",
      "_model_name": "HBoxModel",
      "_view_count": null,
      "_view_module": "@jupyter-widgets/controls",
      "_view_module_version": "1.5.0",
      "_view_name": "HBoxView",
      "box_style": "",
      "children": [
       "IPY_MODEL_baf7388ae69e44618312c237ccc330e3",
       "IPY_MODEL_567363bd903f404cb9983ece23c0344e"
      ],
      "layout": "IPY_MODEL_5fa1c187833d406583dbd9d564cc4851"
     }
    },
    "b3b7e443a06e4547ac218af6bf5423c8": {
     "model_module": "@jupyter-widgets/base",
     "model_name": "LayoutModel",
     "state": {
      "_model_module": "@jupyter-widgets/base",
      "_model_module_version": "1.2.0",
      "_model_name": "LayoutModel",
      "_view_count": null,
      "_view_module": "@jupyter-widgets/base",
      "_view_module_version": "1.2.0",
      "_view_name": "LayoutView",
      "align_content": null,
      "align_items": null,
      "align_self": null,
      "border": null,
      "bottom": null,
      "display": null,
      "flex": null,
      "flex_flow": null,
      "grid_area": null,
      "grid_auto_columns": null,
      "grid_auto_flow": null,
      "grid_auto_rows": null,
      "grid_column": null,
      "grid_gap": null,
      "grid_row": null,
      "grid_template_areas": null,
      "grid_template_columns": null,
      "grid_template_rows": null,
      "height": null,
      "justify_content": null,
      "justify_items": null,
      "left": null,
      "margin": null,
      "max_height": null,
      "max_width": null,
      "min_height": null,
      "min_width": null,
      "object_fit": null,
      "object_position": null,
      "order": null,
      "overflow": null,
      "overflow_x": null,
      "overflow_y": null,
      "padding": null,
      "right": null,
      "top": null,
      "visibility": null,
      "width": null
     }
    },
    "baf7388ae69e44618312c237ccc330e3": {
     "model_module": "@jupyter-widgets/controls",
     "model_name": "FloatProgressModel",
     "state": {
      "_dom_classes": [],
      "_model_module": "@jupyter-widgets/controls",
      "_model_module_version": "1.5.0",
      "_model_name": "FloatProgressModel",
      "_view_count": null,
      "_view_module": "@jupyter-widgets/controls",
      "_view_module_version": "1.5.0",
      "_view_name": "ProgressView",
      "bar_style": "success",
      "description": "100%",
      "description_tooltip": null,
      "layout": "IPY_MODEL_1d7e4bc83fac4236aa5fadfe1e1a121d",
      "max": 2811,
      "min": 0,
      "orientation": "horizontal",
      "style": "IPY_MODEL_7ac3422b2cb64095952d6f2a9a64c3db",
      "value": 2811
     }
    },
    "c32da123e4304553bbca64d839204365": {
     "model_module": "@jupyter-widgets/controls",
     "model_name": "ProgressStyleModel",
     "state": {
      "_model_module": "@jupyter-widgets/controls",
      "_model_module_version": "1.5.0",
      "_model_name": "ProgressStyleModel",
      "_view_count": null,
      "_view_module": "@jupyter-widgets/base",
      "_view_module_version": "1.2.0",
      "_view_name": "StyleView",
      "bar_color": null,
      "description_width": "initial"
     }
    },
    "c76d9d0ae84a4f7e8b74798ed008293e": {
     "model_module": "@jupyter-widgets/controls",
     "model_name": "FloatProgressModel",
     "state": {
      "_dom_classes": [],
      "_model_module": "@jupyter-widgets/controls",
      "_model_module_version": "1.5.0",
      "_model_name": "FloatProgressModel",
      "_view_count": null,
      "_view_module": "@jupyter-widgets/controls",
      "_view_module_version": "1.5.0",
      "_view_name": "ProgressView",
      "bar_style": "",
      "description": " 13%",
      "description_tooltip": null,
      "layout": "IPY_MODEL_e3478a6bfd7f49e5a656f1ae099417be",
      "max": 2811,
      "min": 0,
      "orientation": "horizontal",
      "style": "IPY_MODEL_65b3fad2ee3a478d97babaa4e100ccc3",
      "value": 363
     }
    },
    "d1fedaf7769e4ddb8b4b363926224f6e": {
     "model_module": "@jupyter-widgets/controls",
     "model_name": "HBoxModel",
     "state": {
      "_dom_classes": [],
      "_model_module": "@jupyter-widgets/controls",
      "_model_module_version": "1.5.0",
      "_model_name": "HBoxModel",
      "_view_count": null,
      "_view_module": "@jupyter-widgets/controls",
      "_view_module_version": "1.5.0",
      "_view_name": "HBoxView",
      "box_style": "",
      "children": [
       "IPY_MODEL_1fa2ac0040b74395a877d85b6c65f6a4",
       "IPY_MODEL_4f12364b3dac427ea6816b7fcd9c0029"
      ],
      "layout": "IPY_MODEL_b3b7e443a06e4547ac218af6bf5423c8"
     }
    },
    "d947a5f07d2c41f1b62ad506e70c0e41": {
     "model_module": "@jupyter-widgets/base",
     "model_name": "LayoutModel",
     "state": {
      "_model_module": "@jupyter-widgets/base",
      "_model_module_version": "1.2.0",
      "_model_name": "LayoutModel",
      "_view_count": null,
      "_view_module": "@jupyter-widgets/base",
      "_view_module_version": "1.2.0",
      "_view_name": "LayoutView",
      "align_content": null,
      "align_items": null,
      "align_self": null,
      "border": null,
      "bottom": null,
      "display": null,
      "flex": null,
      "flex_flow": null,
      "grid_area": null,
      "grid_auto_columns": null,
      "grid_auto_flow": null,
      "grid_auto_rows": null,
      "grid_column": null,
      "grid_gap": null,
      "grid_row": null,
      "grid_template_areas": null,
      "grid_template_columns": null,
      "grid_template_rows": null,
      "height": null,
      "justify_content": null,
      "justify_items": null,
      "left": null,
      "margin": null,
      "max_height": null,
      "max_width": null,
      "min_height": null,
      "min_width": null,
      "object_fit": null,
      "object_position": null,
      "order": null,
      "overflow": null,
      "overflow_x": null,
      "overflow_y": null,
      "padding": null,
      "right": null,
      "top": null,
      "visibility": null,
      "width": null
     }
    },
    "dfb3f9e9993948feb15b97a70e3c7ff8": {
     "model_module": "@jupyter-widgets/controls",
     "model_name": "HTMLModel",
     "state": {
      "_dom_classes": [],
      "_model_module": "@jupyter-widgets/controls",
      "_model_module_version": "1.5.0",
      "_model_name": "HTMLModel",
      "_view_count": null,
      "_view_module": "@jupyter-widgets/controls",
      "_view_module_version": "1.5.0",
      "_view_name": "HTMLView",
      "description": "",
      "description_tooltip": null,
      "layout": "IPY_MODEL_63af5b4c972243fda86a6de7b864d2e8",
      "placeholder": "​",
      "style": "IPY_MODEL_2ee879ed253f491198878584d3ba24c9",
      "value": " 362/2811 [05:23&lt;36:16,  1.13it/s]"
     }
    },
    "e3478a6bfd7f49e5a656f1ae099417be": {
     "model_module": "@jupyter-widgets/base",
     "model_name": "LayoutModel",
     "state": {
      "_model_module": "@jupyter-widgets/base",
      "_model_module_version": "1.2.0",
      "_model_name": "LayoutModel",
      "_view_count": null,
      "_view_module": "@jupyter-widgets/base",
      "_view_module_version": "1.2.0",
      "_view_name": "LayoutView",
      "align_content": null,
      "align_items": null,
      "align_self": null,
      "border": null,
      "bottom": null,
      "display": null,
      "flex": null,
      "flex_flow": null,
      "grid_area": null,
      "grid_auto_columns": null,
      "grid_auto_flow": null,
      "grid_auto_rows": null,
      "grid_column": null,
      "grid_gap": null,
      "grid_row": null,
      "grid_template_areas": null,
      "grid_template_columns": null,
      "grid_template_rows": null,
      "height": null,
      "justify_content": null,
      "justify_items": null,
      "left": null,
      "margin": null,
      "max_height": null,
      "max_width": null,
      "min_height": null,
      "min_width": null,
      "object_fit": null,
      "object_position": null,
      "order": null,
      "overflow": null,
      "overflow_x": null,
      "overflow_y": null,
      "padding": null,
      "right": null,
      "top": null,
      "visibility": null,
      "width": null
     }
    }
   }
  }
 },
 "nbformat": 4,
 "nbformat_minor": 1
}
