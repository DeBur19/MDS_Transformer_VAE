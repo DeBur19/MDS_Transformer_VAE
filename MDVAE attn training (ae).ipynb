{
 "cells": [
  {
   "cell_type": "code",
   "execution_count": null,
   "metadata": {
    "colab": {
     "base_uri": "https://localhost:8080/",
     "height": 561
    },
    "colab_type": "code",
    "executionInfo": {
     "elapsed": 7860,
     "status": "ok",
     "timestamp": 1589908837195,
     "user": {
      "displayName": "Денис Бурштеин",
      "photoUrl": "",
      "userId": "00444690313210585410"
     },
     "user_tz": -180
    },
    "id": "vaXDWiB3B2Xp",
    "outputId": "6baf37a6-3098-4030-bb0d-6e9e7202a76c"
   },
   "outputs": [],
   "source": [
    "pip install transformers -U"
   ]
  },
  {
   "cell_type": "code",
   "execution_count": 3,
   "metadata": {
    "colab": {
     "base_uri": "https://localhost:8080/",
     "height": 34
    },
    "colab_type": "code",
    "executionInfo": {
     "elapsed": 11713,
     "status": "ok",
     "timestamp": 1589908841245,
     "user": {
      "displayName": "Денис Бурштеин",
      "photoUrl": "",
      "userId": "00444690313210585410"
     },
     "user_tz": -180
    },
    "id": "9L42Nu5AB2Xy",
    "outputId": "418e6db4-bbf5-4957-9fa2-8566e40512d5"
   },
   "outputs": [
    {
     "name": "stdout",
     "output_type": "stream",
     "text": [
      "Populating the interactive namespace from numpy and matplotlib\n"
     ]
    }
   ],
   "source": [
    "%pylab inline\n",
    "import random\n",
    "import numpy as np\n",
    "from tqdm import tnrange\n",
    "from time import time\n",
    "import matplotlib.pyplot as plt\n",
    "from IPython.display import clear_output\n",
    "\n",
    "import torch\n",
    "import torch.nn as nn\n",
    "import torch.nn.functional as F\n",
    "from torch.nn.utils.rnn import pad_sequence\n",
    "\n",
    "from transformers import BertTokenizer, BertModel"
   ]
  },
  {
   "cell_type": "code",
   "execution_count": 0,
   "metadata": {
    "colab": {},
    "colab_type": "code",
    "id": "yd_pGIi3B2X4"
   },
   "outputs": [],
   "source": [
    "random.seed(42)\n",
    "np.random.seed(42)\n",
    "torch.manual_seed(42)\n",
    "if torch.cuda.is_available():\n",
    "    torch.cuda.manual_seed_all(42)"
   ]
  },
  {
   "cell_type": "code",
   "execution_count": 5,
   "metadata": {
    "colab": {
     "base_uri": "https://localhost:8080/",
     "height": 66,
     "referenced_widgets": [
      "c6b4d41bf5b04650a6cb28296e8f64eb",
      "2ce397f590c74e06b9f0a11d1a219915",
      "8c9e912a71b143d99712d1ff20c184c2",
      "2c8df509a6df412398b8ae1ce2637d05",
      "c69c8fbd92334b188ad7bf6931e47b85",
      "e6185077d6e444d493e070a396cf5432",
      "025a94351f234533805dbbf21e493571",
      "cc8af370633d4e1db0240d057f56b030"
     ]
    },
    "colab_type": "code",
    "executionInfo": {
     "elapsed": 12608,
     "status": "ok",
     "timestamp": 1589908842485,
     "user": {
      "displayName": "Денис Бурштеин",
      "photoUrl": "",
      "userId": "00444690313210585410"
     },
     "user_tz": -180
    },
    "id": "UYz7xVqrB2YG",
    "outputId": "a677b1ac-fbd8-43f1-ba0f-e8ba1c7621e8"
   },
   "outputs": [
    {
     "data": {
      "application/vnd.jupyter.widget-view+json": {
       "model_id": "c6b4d41bf5b04650a6cb28296e8f64eb",
       "version_major": 2,
       "version_minor": 0
      },
      "text/plain": [
       "HBox(children=(FloatProgress(value=0.0, description='Downloading', max=231508.0, style=ProgressStyle(descripti…"
      ]
     },
     "metadata": {
      "tags": []
     },
     "output_type": "display_data"
    },
    {
     "name": "stdout",
     "output_type": "stream",
     "text": [
      "\n"
     ]
    }
   ],
   "source": [
    "bert_tokenizer = BertTokenizer.from_pretrained('bert-base-uncased')"
   ]
  },
  {
   "cell_type": "code",
   "execution_count": 0,
   "metadata": {
    "colab": {},
    "colab_type": "code",
    "id": "JO2JZo3sB2X7"
   },
   "outputs": [],
   "source": [
    "BATCH_SIZE = 16\n",
    "DEC_SOS_IND = 0\n",
    "DEC_EOS_IND = 1\n",
    "DEC_UNK_IND = 2\n",
    "MAX_SUMMARY_LEN = 502\n",
    "MAX_DOC_LEN = 512\n",
    "N_TRAIN = 44972\n",
    "N_VAL = 5622\n",
    "N_TEST = 5622\n",
    "BERT_DIM = 768"
   ]
  },
  {
   "cell_type": "markdown",
   "metadata": {
    "colab_type": "text",
    "id": "nrXPu6WaFPBn"
   },
   "source": [
    "## Load datasets"
   ]
  },
  {
   "cell_type": "code",
   "execution_count": 0,
   "metadata": {
    "colab": {},
    "colab_type": "code",
    "id": "6n0-JX_FFZh2"
   },
   "outputs": [],
   "source": [
    "train = torch.load('data/train2.0.pt')\n",
    "val = torch.load('data/val2.0.pt')\n",
    "test = torch.load('data/test2.0.pt')"
   ]
  },
  {
   "cell_type": "markdown",
   "metadata": {
    "colab_type": "text",
    "id": "gdnxDzF5B2Yg"
   },
   "source": [
    "## BERT embeddings"
   ]
  },
  {
   "cell_type": "code",
   "execution_count": 11,
   "metadata": {
    "colab": {
     "base_uri": "https://localhost:8080/",
     "height": 115,
     "referenced_widgets": [
      "1a605eeac4bd4fdaa3ad25dbdb5701fd",
      "a39401338a8e462db91415da81e935e2",
      "b49e2fff64be4fda82b40a94c7075ed1",
      "1570d63686bf418a951e52c58e28d42b",
      "c1c83b3e6f98413a88b50f77659e978d",
      "74e5d9fe99f848469e87e3c0acae1a8f",
      "31594fed9cb7496093e4fc0ebd30e6d9",
      "59a5550bd0aa4409a55a6a99bd09ed4e",
      "efbd28d66bed4e8984ca90a497799c4a",
      "50835317b77149039ce1166d5ec8a29b",
      "350f6bfed6b543269cada30c60d629dc",
      "794581a502b94907a08c708f6082ef05",
      "4c2b06eac8d846c5a8a1e018606baef3",
      "2abf4a4c430a4ebf97a1f8376c7e1c72",
      "7a380cece46d44ccbbed5b352ea33bfa",
      "f044cfb9b81f4044ade22bafa4a3e75a"
     ]
    },
    "colab_type": "code",
    "executionInfo": {
     "elapsed": 22860,
     "status": "ok",
     "timestamp": 1589908887495,
     "user": {
      "displayName": "Денис Бурштеин",
      "photoUrl": "",
      "userId": "00444690313210585410"
     },
     "user_tz": -180
    },
    "id": "c_GYFB5vB2Yg",
    "outputId": "cd49aa76-1301-4d76-f2c3-adb79597b0a3"
   },
   "outputs": [
    {
     "data": {
      "application/vnd.jupyter.widget-view+json": {
       "model_id": "1a605eeac4bd4fdaa3ad25dbdb5701fd",
       "version_major": 2,
       "version_minor": 0
      },
      "text/plain": [
       "HBox(children=(FloatProgress(value=0.0, description='Downloading', max=433.0, style=ProgressStyle(description_…"
      ]
     },
     "metadata": {
      "tags": []
     },
     "output_type": "display_data"
    },
    {
     "name": "stdout",
     "output_type": "stream",
     "text": [
      "\n"
     ]
    },
    {
     "data": {
      "application/vnd.jupyter.widget-view+json": {
       "model_id": "efbd28d66bed4e8984ca90a497799c4a",
       "version_major": 2,
       "version_minor": 0
      },
      "text/plain": [
       "HBox(children=(FloatProgress(value=0.0, description='Downloading', max=440473133.0, style=ProgressStyle(descri…"
      ]
     },
     "metadata": {
      "tags": []
     },
     "output_type": "display_data"
    },
    {
     "name": "stdout",
     "output_type": "stream",
     "text": [
      "\n"
     ]
    }
   ],
   "source": [
    "bert_model = BertModel.from_pretrained('bert-base-uncased')"
   ]
  },
  {
   "cell_type": "code",
   "execution_count": 0,
   "metadata": {
    "colab": {},
    "colab_type": "code",
    "id": "hQM4dOUnB2Yj"
   },
   "outputs": [],
   "source": [
    "bert_model = bert_model.cpu()\n",
    "bert_model.eval();"
   ]
  },
  {
   "cell_type": "code",
   "execution_count": 0,
   "metadata": {
    "colab": {},
    "colab_type": "code",
    "id": "SC2ZGbQuB2Yo"
   },
   "outputs": [],
   "source": [
    "def tokenized2batch(data, inds, bert_model, tokenizer):\n",
    "    \n",
    "    def BERTembeds2batch(embeds, sep_inds, first_pad_ind):\n",
    "        if sep_inds.shape[0] == 0:\n",
    "            return embeds[:first_pad_ind].unsqueeze(0), None\n",
    "        batch = []\n",
    "        tmpj = 0\n",
    "        for j in range(sep_inds.shape[0] + 1):\n",
    "            if j != sep_inds.shape[0]:\n",
    "                if sep_inds[j] - tmpj != 0:\n",
    "                    batch.append(embeds[tmpj:sep_inds[j]])\n",
    "                tmpj = sep_inds[j] + 1\n",
    "            else:\n",
    "                batch.append(embeds[tmpj:first_pad_ind])\n",
    "        lens = [s.shape[0] for s in batch]\n",
    "        batch = pad_sequence(batch, batch_first=True, padding_value=0)\n",
    "        pad_mask = torch.ones((batch.shape[0], batch.shape[1]), dtype=bool, device=batch.device)\n",
    "        for i in range(pad_mask.shape[0]):\n",
    "            pad_mask[i, :lens[i]] = False\n",
    "        return batch, pad_mask\n",
    "        \n",
    "    pad_id = tokenizer.encode('[PAD]')[1]\n",
    "    sep_id = tokenizer.encode('[SEP]')[1]\n",
    "    \n",
    "    batch = [0] * inds.shape[0]\n",
    "    first_pad_inds = [0] * inds.shape[0]\n",
    "    for i in range(inds.shape[0]):\n",
    "        batch[i] = data[inds[i]]\n",
    "        offset = 0\n",
    "        while batch[i][-(offset + 1)] == sep_id:\n",
    "            offset += 1\n",
    "        if offset != 0:\n",
    "            batch[i] = batch[i][:offset]\n",
    "        first_pad_inds[i] = batch[i].shape[0]\n",
    "    batch = pad_sequence(batch, batch_first=True, padding_value=pad_id)\n",
    "    \n",
    "    attn_mask = (batch != pad_id).to(torch.float)\n",
    "    \n",
    "    pos = torch.arange(0, batch.shape[1])\n",
    "    pos_ids = torch.zeros_like(batch)\n",
    "    sep_inds = [0] * batch.shape[0]\n",
    "    for i in range(batch.shape[0]):\n",
    "        tmp = pos[batch[i] == sep_id]\n",
    "        sep_inds[i] = tmp\n",
    "        tmpj = 0\n",
    "        for j in range(tmp.shape[0] + 1):\n",
    "            if j != tmp.shape[0]:\n",
    "                pos_ids[i, tmpj:tmp[j] + 1] = pos[:tmp[j] + 1 - tmpj]\n",
    "                tmpj = tmp[j] + 1\n",
    "            else:\n",
    "                pos_ids[i, tmpj:] = pos[:batch.shape[1] - tmpj]\n",
    "                \n",
    "    bert_embeds = None\n",
    "    with torch.no_grad():\n",
    "        model = bert_model.cuda()\n",
    "        batch = batch.cuda()\n",
    "        attn_mask = attn_mask.cuda()\n",
    "        pos_ids = pos_ids.cuda()\n",
    "        bert_embeds = model(batch, attention_mask=attn_mask, position_ids=pos_ids)[0]\n",
    "        del model\n",
    "        del batch\n",
    "        del attn_mask\n",
    "        del pos_ids\n",
    "    \n",
    "    batch = []\n",
    "    for i in range(bert_embeds.shape[0]):\n",
    "        batch.append(BERTembeds2batch(bert_embeds[i], sep_inds[i], first_pad_inds[i]))\n",
    "    return batch"
   ]
  },
  {
   "cell_type": "markdown",
   "metadata": {
    "colab_type": "text",
    "id": "APRcRGvXB2Yq"
   },
   "source": [
    "## Tokenizer for summaries"
   ]
  },
  {
   "cell_type": "code",
   "execution_count": 0,
   "metadata": {
    "colab": {},
    "colab_type": "code",
    "id": "X_TfqxVHB2Yr"
   },
   "outputs": [],
   "source": [
    "class summary_lang():\n",
    "    def __init__(self):\n",
    "        self.word2id = {'<SOS>': DEC_SOS_IND, '<EOS>' : DEC_EOS_IND, '<UNK>' : DEC_UNK_IND}\n",
    "        self.id2word = {DEC_SOS_IND : '<SOS>', DEC_EOS_IND : '<EOS>', DEC_UNK_IND : '<UNK>'}\n",
    "        self.word_counts = {}\n",
    "        self.count = 3\n",
    "        \n",
    "    def __len__(self):\n",
    "        return self.count\n",
    "        \n",
    "    def add_summaries(self, summaries, counter, thr=3):\n",
    "        for summary in summaries:\n",
    "            for word in summary:\n",
    "                if counter[word] <= thr:\n",
    "                    continue\n",
    "                if word in self.word2id:\n",
    "                    self.word_counts[word] += 1\n",
    "                else:\n",
    "                    self.word2id[word] = self.count\n",
    "                    self.id2word[self.count] = word\n",
    "                    self.count += 1\n",
    "                    self.word_counts[word] = 1"
   ]
  },
  {
   "cell_type": "markdown",
   "metadata": {
    "colab_type": "text",
    "id": "A1vcyCMWHsrQ"
   },
   "source": [
    "## Load vocab"
   ]
  },
  {
   "cell_type": "code",
   "execution_count": 0,
   "metadata": {
    "colab": {},
    "colab_type": "code",
    "id": "tHVMbiY4HrkP"
   },
   "outputs": [],
   "source": [
    "sum_lang = torch.load('data/vocab2.0.pt')"
   ]
  },
  {
   "cell_type": "code",
   "execution_count": 0,
   "metadata": {
    "colab": {},
    "colab_type": "code",
    "id": "QA0rsa1sB2Yx"
   },
   "outputs": [],
   "source": [
    "dec_vocab_size = len(sum_lang)"
   ]
  },
  {
   "cell_type": "code",
   "execution_count": 17,
   "metadata": {
    "colab": {
     "base_uri": "https://localhost:8080/",
     "height": 34
    },
    "colab_type": "code",
    "executionInfo": {
     "elapsed": 18734,
     "status": "ok",
     "timestamp": 1589908887806,
     "user": {
      "displayName": "Денис Бурштеин",
      "photoUrl": "",
      "userId": "00444690313210585410"
     },
     "user_tz": -180
    },
    "id": "wMmjmiqVH-Fd",
    "outputId": "3caf4c92-3fbe-4472-ee89-a53457d9f651"
   },
   "outputs": [
    {
     "data": {
      "text/plain": [
       "49295"
      ]
     },
     "execution_count": 17,
     "metadata": {
      "tags": []
     },
     "output_type": "execute_result"
    }
   ],
   "source": [
    "dec_vocab_size"
   ]
  },
  {
   "cell_type": "markdown",
   "metadata": {
    "colab_type": "text",
    "id": "3c03lYbTGclE"
   },
   "source": [
    "## Load tokenized summaries"
   ]
  },
  {
   "cell_type": "code",
   "execution_count": 0,
   "metadata": {
    "colab": {},
    "colab_type": "code",
    "id": "WZmTXKYKGhFi"
   },
   "outputs": [],
   "source": [
    "train_sum = torch.load('data/train_sum2.0.pt')\n",
    "val_sum = torch.load('data/val_sum2.0.pt')\n",
    "test_sum = torch.load('data/test_sum2.0.pt')"
   ]
  },
  {
   "cell_type": "markdown",
   "metadata": {
    "colab_type": "text",
    "id": "adjInGVMB2ZF"
   },
   "source": [
    "## Training functions"
   ]
  },
  {
   "cell_type": "code",
   "execution_count": 0,
   "metadata": {
    "colab": {},
    "colab_type": "code",
    "id": "6TYzv2IRB2ZG"
   },
   "outputs": [],
   "source": [
    "def train_epoch(model, data, summaries, optimizer):\n",
    "    model.train()\n",
    "    nll_losses = []\n",
    "    inds = np.random.permutation(len(data))\n",
    "    num_batches = int(np.ceil(len(data) / BATCH_SIZE))\n",
    "    for i in tnrange(num_batches):\n",
    "\n",
    "        batch = tokenized2batch(data, inds[i * BATCH_SIZE:(i + 1) * BATCH_SIZE], bert_model, bert_tokenizer)\n",
    "        optimizer.zero_grad()\n",
    "        nll_batch = 0.0\n",
    "        for j in range(len(batch)):\n",
    "            docs, pad_mask = batch[j]\n",
    "            summary = summaries[inds[i * BATCH_SIZE + j]].cuda()\n",
    "            log_probs, z = model(docs, pad_mask, summary[:, :-1])\n",
    "            nll = F.nll_loss(log_probs.squeeze(0), summary[:, 1:].view(-1))\n",
    "            if torch.isnan(nll).item():\n",
    "                print(z)\n",
    "                print(nll)\n",
    "                raise ValueError\n",
    "            nll_batch = nll_batch + (nll / len(batch))      \n",
    "        nll_batch.backward()\n",
    "        optimizer.step()\n",
    "        \n",
    "        nll_losses.append(nll_batch.item())\n",
    "   \n",
    "    return nll_losses\n",
    "\n",
    "def val_ae(model, data, summaries):\n",
    "    model.eval()\n",
    "    nll_losses = []\n",
    "    inds = np.arange(len(data))\n",
    "    num_batches = int(np.ceil(len(data) / BATCH_SIZE))\n",
    "    with torch.no_grad():\n",
    "        for i in tnrange(num_batches):\n",
    "\n",
    "            batch = tokenized2batch(data, inds[i * BATCH_SIZE:(i + 1) * BATCH_SIZE], bert_model, bert_tokenizer)\n",
    "\n",
    "            nll_batch = 0.0\n",
    "            for j in range(len(batch)):\n",
    "                docs, pad_mask = batch[j]\n",
    "                summary = summaries[inds[i * BATCH_SIZE + j]].cuda()\n",
    "                log_probs, z = model(docs, pad_mask, summary[:, :-1])\n",
    "                nll = F.nll_loss(log_probs.squeeze(0), summary[:, 1:].view(-1))\n",
    "                nll_batch = nll_batch + (nll / len(batch))\n",
    "\n",
    "            del batch\n",
    "\n",
    "            nll_losses.append(nll_batch.item())\n",
    "     \n",
    "    return nll_losses\n",
    "\n",
    "def plot_history(train_history, val_history):\n",
    "    plt.figure(figsize=(10, 8))\n",
    "    plt.title('Nll loss')\n",
    "    plt.plot(train_history, label='train', zorder=1)\n",
    "    \n",
    "    points = np.array(val_history)\n",
    "    \n",
    "    plt.scatter(points[:, 0], points[:, 1], marker='+', s=180, c='orange', label='val', zorder=2)\n",
    "    plt.xlabel('train steps')\n",
    "    \n",
    "    plt.legend(loc='best')\n",
    "    plt.grid()\n",
    "    plt.tight_layout()\n",
    "    plt.show()\n",
    "\n",
    "def train_ae(model, opt, train, train_sum, val, val_sum, num_epochs, init_epoch=0, train_log=[], val_log=[]):\n",
    "    train_nll_log = train_log\n",
    "    val_nll_log = val_log\n",
    "    \n",
    "    t1 = time()\n",
    "    \n",
    "    for epoch in range(init_epoch, init_epoch + num_epochs):\n",
    "        tic = time()\n",
    "        nll_losses = train_epoch(model, train, train_sum, opt)\n",
    "        tac = time()\n",
    "\n",
    "        tic1 = time()\n",
    "        val_nll_losses = val_ae(model, val, val_sum)\n",
    "        tac1 = time()\n",
    "\n",
    "        train_nll_log.extend(nll_losses)\n",
    "\n",
    "        val_nll_log.append((np.ceil(len(train) / BATCH_SIZE) * (epoch + 1), np.mean(val_nll_losses)))\n",
    "        \n",
    "        checkpoint_state = {'epoch': epoch,\n",
    "                            'state_dict': model.state_dict(),\n",
    "                            'optimizer': opt.state_dict()}\n",
    "        torch.save(checkpoint_state, 'ae_attn/checkpoints/epoch{}.pt'.format(epoch))\n",
    "\n",
    "        losses_log = {'train' : train_nll_log,\n",
    "                      'val' : val_nll_log}\n",
    "        torch.save(losses_log, 'ae_attn/losses_log.pt')\n",
    "            \n",
    "        clear_output()\n",
    "        plot_history(train_nll_log, val_nll_log)\n",
    "        t2 = time()\n",
    "        print('EPOCH {}:'.format(epoch))\n",
    "        print('Total time from start: {}min {}s'.format((t2 - t1) // 60, (t2 - t1) % 60))\n",
    "        print('----------------------------------')\n",
    "        print('TRAIN: {}min {}s for epoch\\nMean nll loss = {}'.format((tac - tic) // 60,\n",
    "                                                                      (tac - tic) % 60,\n",
    "                                                                      np.mean(nll_losses)))\n",
    "        print('----------------------------------')\n",
    "        print('VAL: {}min {}s for epoch\\nMean nll loss = {}'.format((tac1 - tic1) // 60,\n",
    "                                                                    (tac1 - tic1) % 60,\n",
    "                                                                    val_nll_log[-1][1]))\n",
    "    \n",
    "    return losses_log"
   ]
  },
  {
   "cell_type": "markdown",
   "metadata": {
    "colab_type": "text",
    "id": "w9ojwXyOB2ZI"
   },
   "source": [
    "## Model"
   ]
  },
  {
   "cell_type": "code",
   "execution_count": 0,
   "metadata": {
    "colab": {},
    "colab_type": "code",
    "id": "InEO0huMB2ZI"
   },
   "outputs": [],
   "source": [
    "# from https://pytorch.org/tutorials/beginner/transformer_tutorial.html\n",
    "class PositionalEncoding(nn.Module):\n",
    "\n",
    "    def __init__(self, d_model, dropout=0.0, max_len=512):\n",
    "        super(PositionalEncoding, self).__init__()\n",
    "        self.dropout = nn.Dropout(p=dropout)\n",
    "        \n",
    "        pe = torch.zeros(max_len, d_model)\n",
    "        position = torch.arange(0, max_len, dtype=torch.float).unsqueeze(1)\n",
    "        div_term = torch.exp(torch.arange(0, d_model, 2).float() * (-math.log(10000.0) / d_model))\n",
    "        pe[:, 0::2] = torch.sin(position * div_term)\n",
    "        pe[:, 1::2] = torch.cos(position * div_term)\n",
    "        pe = pe.unsqueeze(0)\n",
    "        self.register_buffer('pe', pe)\n",
    "\n",
    "    def forward(self, x):\n",
    "        x = x + self.pe[:, :x.size(1), :]\n",
    "        return self.dropout(x)"
   ]
  },
  {
   "cell_type": "code",
   "execution_count": 0,
   "metadata": {
    "colab": {},
    "colab_type": "code",
    "id": "TCSqaEVvB2ZK"
   },
   "outputs": [],
   "source": [
    "# there are some things from https://pytorch.org/docs/stable/_modules/torch/nn/modules/transformer.html\n",
    "class TrDecoder(nn.Module):\n",
    "    def __init__(self, dec_embed_dim, dec_depth, dec_n_heads, dec_feedforward_dim):\n",
    "        super(TrDecoder, self).__init__()\n",
    "        \n",
    "        self.dec_embed_dim = dec_embed_dim\n",
    "        self.dec_depth = dec_depth\n",
    "        self.dec_n_heads = dec_n_heads\n",
    "        self.dec_feedforward_dim = dec_feedforward_dim\n",
    "        \n",
    "        self.transformer_layers = nn.ModuleList([nn.TransformerDecoderLayer(dec_embed_dim,\n",
    "                                                                            dec_n_heads,\n",
    "                                                                            dim_feedforward=dec_feedforward_dim,\n",
    "                                                                            activation='gelu') for i in range(dec_depth)])\n",
    "        \n",
    "    def forward(self, embs, mem, seq_mask, pad_mask=None):\n",
    "        embs = embs.transpose(0, 1)\n",
    "\n",
    "        for i in range(self.dec_depth):\n",
    "            embs = self.transformer_layers[i](embs, mem, tgt_mask=seq_mask, memory_key_padding_mask=pad_mask)\n",
    "            \n",
    "        return embs.transpose(0, 1)\n",
    "    \n",
    "    def generate_square_subsequent_mask(self, sz):\n",
    "        r\"\"\"Generate a square mask for the sequence. The masked positions are filled with float('-inf').\n",
    "            Unmasked positions are filled with float(0.0).\n",
    "        \"\"\"\n",
    "        mask = (torch.triu(torch.ones(sz, sz)) == 1).transpose(0, 1)\n",
    "        mask = mask.float().masked_fill(mask == 0, float('-inf')).masked_fill(mask == 1, float(0.0))\n",
    "        return mask\n",
    "\n",
    "\n",
    "class MDVAE(nn.Module):\n",
    "    def __init__(self, input_size, enc_depth, enc_n_heads, enc_feedforward_dim,\n",
    "                 dec_num_embeds, dec_embed_dim, dec_depth, dec_n_heads, dec_feedforward_dim,\n",
    "                 distr_dim, dict_constants, mode='VAE'):\n",
    "        super(MDVAE, self).__init__()\n",
    "        \n",
    "        # hyperparameters:\n",
    "        self.input_size = input_size\n",
    "        self.enc_depth = enc_depth\n",
    "        self.enc_n_heads = enc_n_heads\n",
    "        self.enc_feedforward_dim = enc_feedforward_dim\n",
    "        self.dec_num_embeds = dec_num_embeds\n",
    "        self.dec_embed_dim = dec_embed_dim\n",
    "        self.dec_depth = dec_depth\n",
    "        self.dec_n_heads = dec_n_heads\n",
    "        self.dec_feedforward_dim = dec_feedforward_dim\n",
    "        self.distr_dim = distr_dim\n",
    "        self.mode = mode\n",
    "        self.DEC_SOS_IND = dict_constants['DEC_SOS_IND']\n",
    "        self.DEC_EOS_IND = dict_constants['DEC_EOS_IND']\n",
    "        self.MAX_SUMMARY_LEN = dict_constants['MAX_SUMMARY_LEN']\n",
    "        self.MAX_DOC_LEN = dict_constants['MAX_DOC_LEN']\n",
    "        \n",
    "        # encoder layers:\n",
    "        self.enc_pos_emb = PositionalEncoding(input_size, 0.0, self.MAX_DOC_LEN)\n",
    "        self.mu_linear = nn.Linear(input_size, distr_dim)\n",
    "        self.logsigma_linear = None\n",
    "        if mode == 'VAE':\n",
    "            self.logsigma_linear = nn.Linear(input_size, distr_dim)\n",
    "        elif mode != 'AE':\n",
    "            raise ValueError('Unknown mode: must be \"VAE\" or \"AE\", not {}'.format(mode))\n",
    "        enc_layer = nn.TransformerEncoderLayer(d_model=input_size,\n",
    "                                               nhead=enc_n_heads,\n",
    "                                               dim_feedforward=enc_feedforward_dim,\n",
    "                                               activation=\"gelu\")\n",
    "        self.document_encoder = nn.TransformerEncoder(enc_layer, num_layers=enc_depth)\n",
    "        self.doc_encoder_linear = nn.Linear(input_size * 2, 1, bias=False)\n",
    "        \n",
    "        # decoder layers:\n",
    "        self.decoder_emb = nn.Embedding(dec_num_embeds, dec_embed_dim)\n",
    "        self.dec_pos_emb = PositionalEncoding(dec_embed_dim, 0.0, self.MAX_SUMMARY_LEN)\n",
    "        self.dec_enc_to_mem = nn.Linear(input_size, dec_embed_dim)\n",
    "        self.dec_latent_to_add_mem = nn.Linear(distr_dim, dec_embed_dim)\n",
    "        self.decoder = TrDecoder(self.dec_embed_dim, self.dec_depth, self.dec_n_heads, self.dec_feedforward_dim)\n",
    "        seq_mask = self.decoder.generate_square_subsequent_mask(self.MAX_SUMMARY_LEN)\n",
    "        self.register_buffer('seq_mask', seq_mask)\n",
    "        self.decoder_linear1 = nn.Linear(dec_embed_dim, dec_embed_dim)\n",
    "        self.decoder_linear2 = nn.Linear(dec_embed_dim, dec_num_embeds)\n",
    "    \n",
    "    def encode_vae(self, inputs, pad_mask=None):\n",
    "        # inputs: (n_docs, n_tokens, input_size)\n",
    "\n",
    "        # BERT embeddings per document + positional embeddings to document embeddings:\n",
    "        x = self.enc_pos_emb(inputs).transpose(0, 1)\n",
    "        x = self.document_encoder(x, src_key_padding_mask=pad_mask).transpose(0, 1)\n",
    "        if pad_mask is None:\n",
    "            doc_embeds = torch.mean(x, dim=1)\n",
    "        else:\n",
    "            not_pad_mask = torch.logical_not(pad_mask)\n",
    "            doc_embeds = torch.sum(x * not_pad_mask.unsqueeze(2), dim=1) / torch.sum(not_pad_mask, dim=1).view(-1, 1)\n",
    "\n",
    "        # document embeddings to set-of-documents embedding:\n",
    "        if doc_embeds.shape[0] == 1:       # only 1 document in inputs\n",
    "            set_of_docs_emb = doc_embeds\n",
    "        else:                              # more than 1 document in inputs\n",
    "            d_sum = torch.sum(doc_embeds, dim=0)\n",
    "            d_conc = torch.cat((doc_embeds, d_sum.view(1, -1).expand(doc_embeds.shape[0], -1)), -1)\n",
    "            weights = self.doc_encoder_linear(d_conc)\n",
    "            weights = F.softmax(weights, dim=0)\n",
    "            set_of_docs_emb = torch.mm(weights.view(1, -1), doc_embeds)\n",
    "            \n",
    "        # set-of-documents embedding to mu and logvar:\n",
    "        mu = self.mu_linear(set_of_docs_emb)\n",
    "        logsigma = self.logsigma_linear(set_of_docs_emb)\n",
    "        if pad_mask is None:\n",
    "            return mu, logsigma, (x.reshape((-1, x.shape[2])).unsqueeze(1), None)\n",
    "        else:\n",
    "            return mu, logsigma, (x.reshape((-1, x.shape[2])).unsqueeze(1), pad_mask.reshape((1, -1)))\n",
    "    \n",
    "    def encode_ae(self, inputs, pad_mask=None):\n",
    "        # inputs: (n_docs, n_tokens, input_size)\n",
    "        \n",
    "        # BERT embeddings per document + positional embeddings to document embeddings:\n",
    "        x = self.enc_pos_emb(inputs).transpose(0, 1)\n",
    "        x = self.document_encoder(x, src_key_padding_mask=pad_mask).transpose(0, 1)\n",
    "        if pad_mask is None:\n",
    "            doc_embeds = torch.mean(x, dim=1)\n",
    "        else:\n",
    "            not_pad_mask = torch.logical_not(pad_mask)\n",
    "            doc_embeds = torch.sum(x * not_pad_mask.unsqueeze(2), dim=1) / torch.sum(not_pad_mask, dim=1).view(-1, 1)\n",
    "        \n",
    "        # document embeddings to set-of-documents embedding:\n",
    "        if doc_embeds.shape[0] == 1:       # only 1 document in inputs\n",
    "            set_of_docs_emb = doc_embeds\n",
    "        else:                              # more than 1 document in inputs\n",
    "            d_sum = torch.sum(doc_embeds, dim=0)\n",
    "            d_conc = torch.cat((doc_embeds, d_sum.view(1, -1).expand(doc_embeds.shape[0], -1)), -1)\n",
    "            weights = self.doc_encoder_linear(d_conc)\n",
    "            weights = F.softmax(weights, dim=0)\n",
    "            set_of_docs_emb = torch.mm(weights.view(1, -1), doc_embeds)\n",
    "        \n",
    "        # set-of-documents embedding to mu:\n",
    "        mu = self.mu_linear(set_of_docs_emb)\n",
    "        if pad_mask is None:\n",
    "            return mu, (x.reshape((-1, x.shape[2])).unsqueeze(1), None)\n",
    "        else:\n",
    "            return mu, (x.reshape((-1, x.shape[2])).unsqueeze(1), pad_mask.reshape((1, -1)))\n",
    "    \n",
    "    def reparam_sample(self, mu, logsigma):\n",
    "        std = torch.exp(0.5 * logsigma)\n",
    "        eps = torch.randn_like(std)\n",
    "        return eps * std + mu\n",
    "    \n",
    "    def decode(self, z, memory, pad_mask=None, target_summary=None, max_summary_len=None):\n",
    "        # teacher forcing:\n",
    "        if target_summary is not None:\n",
    "            if target_summary.shape[1] > self.MAX_SUMMARY_LEN:\n",
    "                raise ValueError(\"target_summary's len must be <= MAX_SUMMARY_LEN = {}\".format(self.MAX_SUMMARY_LEN))\n",
    "            embs = self.decoder_emb(target_summary)\n",
    "            embs = self.dec_pos_emb(embs)\n",
    "            mem = self.dec_enc_to_mem(memory)\n",
    "            add_mem = self.dec_latent_to_add_mem(z.view(1, 1, -1))\n",
    "            embs = embs + add_mem\n",
    "            decoded = self.decoder(embs, mem=mem, seq_mask=self.seq_mask[:embs.shape[1], :embs.shape[1]], pad_mask=pad_mask)\n",
    "            return F.log_softmax(self.decoder_linear2(F.relu(self.decoder_linear1(decoded))), dim=-1)\n",
    "        # autoregressive one-by-one:\n",
    "        else:\n",
    "            if max_summary_len is None:\n",
    "                max_len = self.MAX_SUMMARY_LEN\n",
    "            else:\n",
    "                max_len = min(max_summary_len, self.MAX_SUMMARY_LEN)\n",
    "            inds = [self.DEC_SOS_IND]\n",
    "            embs = self.decoder_emb(torch.tensor([inds], dtype=torch.long, device=z.device))\n",
    "            embs = self.dec_pos_emb(embs)\n",
    "            mem = self.dec_enc_to_mem(memory)\n",
    "            add_mem = self.dec_latent_to_add_mem(z.view(1, 1, -1))\n",
    "            embs = embs + add_mem\n",
    "            log_probs = None\n",
    "            for i in range(max_len - 2):\n",
    "                decoded = self.decoder(embs, mem=mem, seq_mask=self.seq_mask[:embs.shape[1], :embs.shape[1]], pad_mask=pad_mask)\n",
    "                log_probs = F.log_softmax(self.decoder_linear2(F.relu(self.decoder_linear1(decoded))), dim=-1)\n",
    "                next_ind = torch.argmax(log_probs, dim=-1).view(-1)[-1].item()\n",
    "                #next_ind = torch.multinomial(torch.exp(log_probs[0, -1].view(-1)), 1).item()\n",
    "                if next_ind == self.DEC_EOS_IND:\n",
    "                    return log_probs\n",
    "                inds.append(next_ind)\n",
    "                embs = self.decoder_emb(torch.tensor([inds], dtype=torch.long, device=z.device))\n",
    "                embs = self.dec_pos_emb(embs)\n",
    "                embs = embs + add_mem\n",
    "            return log_probs\n",
    "            \n",
    "    def forward(self, inputs, pad_mask=None, summary=None, max_summary_len=None, deterministic=False):\n",
    "        # inputs: (n_docs, n_sentences, input_size)\n",
    "        \n",
    "        if self.mode == 'VAE':\n",
    "            if not deterministic:\n",
    "                mu, logsigma, (mem, mem_pad) = self.encode_vae(inputs, pad_mask)\n",
    "                z = self.reparam_sample(mu, logsigma)\n",
    "                return [self.decode(z, mem, mem_pad, summary, max_summary_len), mu, logsigma]\n",
    "            else:\n",
    "                mu, logsigma, (mem, mem_pad) = self.encode_vae(inputs, pad_mask)\n",
    "                return [self.decode(mu, mem, mem_pad, summary, max_summary_len), mu, logsigma]\n",
    "        else:\n",
    "            z, (mem, mem_pad) = self.encode_ae(inputs, pad_mask)\n",
    "            return self.decode(z, mem, mem_pad, summary, max_summary_len), z\n",
    "    \n",
    "    # generate text summary\n",
    "    def summarize(self, inp, dec_vocab_ind2word, pad_mask=None, deterministic=True, max_summary_len=None):  \n",
    "        # deterministic: latent vector z equals mu if True, else z is sampled\n",
    "        \n",
    "        with torch.no_grad():\n",
    "            m = self.training\n",
    "            self.eval()\n",
    "            if deterministic or self.mode == 'AE':\n",
    "                z, (mem, mem_pad) = self.encode_ae(inp, pad_mask)\n",
    "            else:\n",
    "                mu, logsigma, (mem, mem_pad) = self.encode_vae(inp, pad_mask)\n",
    "                z = self.reparam_sample(mu, logsigma)\n",
    "            summary_inds = torch.reshape(torch.argmax(self.decode(z, mem, mem_pad, None, max_summary_len), dim=-1), (-1,))\n",
    "            summary = ''\n",
    "            for ind in summary_inds:\n",
    "                summary += dec_vocab_ind2word[ind.item()] + ' '\n",
    "            self.train(m)\n",
    "            return summary[:-1]\n",
    "    \n",
    "    def full_vae_loss(self, pred, target, mu, logsigma, reduction='mean'):\n",
    "        nll = F.nll_loss(pred.squeeze(0), target.view(-1), reduction=reduction)\n",
    "        kl = -0.5 * torch.sum(1 + logsigma - mu**2 - logsigma.exp())\n",
    "        if reduction == 'mean':\n",
    "            kl_weight = 1 / target.view(-1).shape[0]\n",
    "        else:\n",
    "            kl_weight = 1\n",
    "        full = nll + kl_weight * kl\n",
    "        #full = nll + kl\n",
    "        return full, nll, kl"
   ]
  },
  {
   "cell_type": "markdown",
   "metadata": {
    "colab_type": "text",
    "id": "z334P6ZtB2ZN"
   },
   "source": [
    "## Training"
   ]
  },
  {
   "cell_type": "code",
   "execution_count": 0,
   "metadata": {
    "colab": {},
    "colab_type": "code",
    "id": "ItvccOUYB2ZN"
   },
   "outputs": [],
   "source": [
    "dict_constants = {}\n",
    "dict_constants['DEC_SOS_IND'] = DEC_SOS_IND\n",
    "dict_constants['DEC_EOS_IND'] = DEC_EOS_IND\n",
    "dict_constants['MAX_SUMMARY_LEN'] = MAX_SUMMARY_LEN\n",
    "dict_constants['MAX_DOC_LEN'] = MAX_DOC_LEN"
   ]
  },
  {
   "cell_type": "code",
   "execution_count": 0,
   "metadata": {
    "colab": {},
    "colab_type": "code",
    "id": "xQhtbI7_B2ZQ"
   },
   "outputs": [],
   "source": [
    "model = MDVAE(input_size=BERT_DIM,\n",
    "                  enc_depth=4,\n",
    "                  enc_n_heads=8,\n",
    "                  enc_feedforward_dim=2048,\n",
    "                  dec_num_embeds=dec_vocab_size,\n",
    "                  dec_embed_dim=256,\n",
    "                  dec_depth=4,\n",
    "                  dec_n_heads=8,\n",
    "                  dec_feedforward_dim=1024,\n",
    "                  distr_dim=256,\n",
    "                  dict_constants=dict_constants,\n",
    "                  mode='AE')"
   ]
  },
  {
   "cell_type": "code",
   "execution_count": 0,
   "metadata": {
    "colab": {},
    "colab_type": "code",
    "id": "qpNTosS5B2ZS"
   },
   "outputs": [],
   "source": [
    "np.sum([p.numel() for p in model.parameters()])"
   ]
  },
  {
   "cell_type": "code",
   "execution_count": 0,
   "metadata": {
    "colab": {},
    "colab_type": "code",
    "id": "roIpFxbxB2ZV"
   },
   "outputs": [],
   "source": [
    "np.sum([p.numel() for p in model.parameters() if p.requires_grad])"
   ]
  },
  {
   "cell_type": "code",
   "execution_count": 0,
   "metadata": {
    "colab": {},
    "colab_type": "code",
    "id": "xScjF-Sl2D2l"
   },
   "outputs": [],
   "source": [
    "#checkpoint = torch.load('ae_attn/checkpoints/epoch{}.pt'.format(14))\n",
    "#losses_log = torch.load('ae_attn/losses_log.pt')"
   ]
  },
  {
   "cell_type": "code",
   "execution_count": 0,
   "metadata": {
    "colab": {},
    "colab_type": "code",
    "id": "t5AHaFLLB2ZX"
   },
   "outputs": [],
   "source": [
    "#model.load_state_dict(checkpoint['state_dict'])\n",
    "model = model.cuda()\n",
    "opt = torch.optim.Adam(model.parameters(), lr=0.0001)\n",
    "#opt.load_state_dict(checkpoint['optimizer'])\n",
    "#for g in opt.param_groups:\n",
    "#    g['lr'] = 0.00025"
   ]
  },
  {
   "cell_type": "code",
   "execution_count": 0,
   "metadata": {
    "colab": {},
    "colab_type": "code",
    "id": "-TKA9kKw2v7_"
   },
   "outputs": [],
   "source": [
    "init_ep = checkpoint['epoch'] + 1"
   ]
  },
  {
   "cell_type": "code",
   "execution_count": 0,
   "metadata": {
    "colab": {
     "base_uri": "https://localhost:8080/",
     "height": 753,
     "referenced_widgets": [
      "6d26cba942864fcfb8b5c6f7713c47d7",
      "b9d583e0022249bb978e1b1cb3259c0a",
      "388dbe0d310f4d56858d6f2f61e93a21",
      "4b58b61713a145d086f8cec2e8772d25",
      "b9564c0e2ee74854839999e8c0e27255",
      "0889d36cd6d3467c9035a6ffccb0792b",
      "2025fff6a8f14eeaadc2b1f5f42f9b9d",
      "2ee633412ccf408ea1b695c7cb2b0a7b",
      "32a5bd7f6b634d2abe4bc24c779244fc",
      "7e058e08b9d5441dab0b1ae00b50af03",
      "59a2fb95fa5047a0929c5be52ba07fdc",
      "cd2a06471e3c404182ea49db3635132c",
      "ae6bdb4eed204cd6acf9b991c1dce1fb",
      "9589296f9e374b6dabab62b9093b483d",
      "d112fb7436a943aca243e9a634e06447",
      "7b9b948f7fea475b823d6cc3d525c536",
      "f32138e8db9a42578fcee2d31be65ab7",
      "a0187a0961804e72873c61a55ebfcfd8",
      "04ef41ae36e448a1a106272c94210f04",
      "2911989767ef43a5b52428d20a520901",
      "ed3f7cede2e44df9b60a0b2fe59ef139",
      "03e86109801147dd8cf1b0da58c621dd",
      "21470900b6ac49a0bc77848035cdfd64",
      "57c05f30c7c24b9dae929941e005295d"
     ]
    },
    "colab_type": "code",
    "executionInfo": {
     "elapsed": 27422863,
     "status": "error",
     "timestamp": 1589668330023,
     "user": {
      "displayName": "Денис Бурштеин",
      "photoUrl": "",
      "userId": "00444690313210585410"
     },
     "user_tz": -180
    },
    "id": "w8vZxj1uB2ZZ",
    "outputId": "33598ada-6473-49a6-830c-a772c9704d3f"
   },
   "outputs": [
    {
     "data": {
      "image/png": "[encoded data removed]",
      "text/plain": [
       "<Figure size 720x576 with 1 Axes>"
      ]
     },
     "metadata": {
      "needs_background": "light",
      "tags": []
     },
     "output_type": "display_data"
    },
    {
     "name": "stdout",
     "output_type": "stream",
     "text": [
      "EPOCH 15:\n",
      "Total time from start: 49.0min 24.89248824119568s\n",
      "----------------------------------\n",
      "TRAIN: 46.0min 4.981996774673462s for epoch\n",
      "Mean nll loss = 3.983590958848707\n",
      "----------------------------------\n",
      "VAL: 3.0min 16.84701418876648s for epoch\n",
      "Mean nll loss = 4.379134461283684\n"
     ]
    },
    {
     "data": {
      "application/vnd.jupyter.widget-view+json": {
       "model_id": "f32138e8db9a42578fcee2d31be65ab7",
       "version_major": 2,
       "version_minor": 0
      },
      "text/plain": [
       "HBox(children=(FloatProgress(value=0.0, max=2811.0), HTML(value='')))"
      ]
     },
     "metadata": {
      "tags": []
     },
     "output_type": "display_data"
    }
   ],
   "source": [
    "#losses_log = train_ae(model, opt, train, train_sum, val, val_sum, 3, init_epoch=init_ep, train_log=losses_log['train'], val_log=losses_log['val'])\n",
    "losses_log = train_ae(model, opt, train, train_sum, val, val_sum, 10, init_epoch=0, train_log=[], val_log=[])"
   ]
  },
  {
   "cell_type": "code",
   "execution_count": 0,
   "metadata": {
    "colab": {},
    "colab_type": "code",
    "id": "YMqMW8GLLbM4"
   },
   "outputs": [],
   "source": [
    "#model.eval()\n",
    "#model.summarize(torch.randn((3, 150, 768)).cuda(), sum_lang.id2word, max_summary_len=20)"
   ]
  },
  {
   "cell_type": "code",
   "execution_count": 0,
   "metadata": {
    "colab": {},
    "colab_type": "code",
    "id": "ZP5T88FT_zQA"
   },
   "outputs": [],
   "source": []
  }
 ],
 "metadata": {
  "accelerator": "GPU",
  "anaconda-cloud": {},
  "colab": {
   "collapsed_sections": [],
   "name": "MDVAE attn training (ae).ipynb",
   "provenance": [
    {
     "file_id": "1P_l5_8EGMHgaVNDYuW8ZGfeaTIu7iLIq",
     "timestamp": 1588354980938
    }
   ]
  },
  "kernelspec": {
   "display_name": "Python 3",
   "language": "python",
   "name": "python3"
  },
  "language_info": {
   "codemirror_mode": {
    "name": "ipython",
    "version": 3
   },
   "file_extension": ".py",
   "mimetype": "text/x-python",
   "name": "python",
   "nbconvert_exporter": "python",
   "pygments_lexer": "ipython3",
   "version": "3.7.6"
  },
  "widgets": {
   "application/vnd.jupyter.widget-state+json": {
    "025a94351f234533805dbbf21e493571": {
     "model_module": "@jupyter-widgets/controls",
     "model_name": "DescriptionStyleModel",
     "state": {
      "_model_module": "@jupyter-widgets/controls",
      "_model_module_version": "1.5.0",
      "_model_name": "DescriptionStyleModel",
      "_view_count": null,
      "_view_module": "@jupyter-widgets/base",
      "_view_module_version": "1.2.0",
      "_view_name": "StyleView",
      "description_width": ""
     }
    },
    "03e86109801147dd8cf1b0da58c621dd": {
     "model_module": "@jupyter-widgets/base",
     "model_name": "LayoutModel",
     "state": {
      "_model_module": "@jupyter-widgets/base",
      "_model_module_version": "1.2.0",
      "_model_name": "LayoutModel",
      "_view_count": null,
      "_view_module": "@jupyter-widgets/base",
      "_view_module_version": "1.2.0",
      "_view_name": "LayoutView",
      "align_content": null,
      "align_items": null,
      "align_self": null,
      "border": null,
      "bottom": null,
      "display": null,
      "flex": null,
      "flex_flow": null,
      "grid_area": null,
      "grid_auto_columns": null,
      "grid_auto_flow": null,
      "grid_auto_rows": null,
      "grid_column": null,
      "grid_gap": null,
      "grid_row": null,
      "grid_template_areas": null,
      "grid_template_columns": null,
      "grid_template_rows": null,
      "height": null,
      "justify_content": null,
      "justify_items": null,
      "left": null,
      "margin": null,
      "max_height": null,
      "max_width": null,
      "min_height": null,
      "min_width": null,
      "object_fit": null,
      "object_position": null,
      "order": null,
      "overflow": null,
      "overflow_x": null,
      "overflow_y": null,
      "padding": null,
      "right": null,
      "top": null,
      "visibility": null,
      "width": null
     }
    },
    "04ef41ae36e448a1a106272c94210f04": {
     "model_module": "@jupyter-widgets/controls",
     "model_name": "FloatProgressModel",
     "state": {
      "_dom_classes": [],
      "_model_module": "@jupyter-widgets/controls",
      "_model_module_version": "1.5.0",
      "_model_name": "FloatProgressModel",
      "_view_count": null,
      "_view_module": "@jupyter-widgets/controls",
      "_view_module_version": "1.5.0",
      "_view_name": "ProgressView",
      "bar_style": "",
      "description": "  0%",
      "description_tooltip": null,
      "layout": "IPY_MODEL_03e86109801147dd8cf1b0da58c621dd",
      "max": 2811,
      "min": 0,
      "orientation": "horizontal",
      "style": "IPY_MODEL_ed3f7cede2e44df9b60a0b2fe59ef139",
      "value": 7
     }
    },
    "0889d36cd6d3467c9035a6ffccb0792b": {
     "model_module": "@jupyter-widgets/base",
     "model_name": "LayoutModel",
     "state": {
      "_model_module": "@jupyter-widgets/base",
      "_model_module_version": "1.2.0",
      "_model_name": "LayoutModel",
      "_view_count": null,
      "_view_module": "@jupyter-widgets/base",
      "_view_module_version": "1.2.0",
      "_view_name": "LayoutView",
      "align_content": null,
      "align_items": null,
      "align_self": null,
      "border": null,
      "bottom": null,
      "display": null,
      "flex": null,
      "flex_flow": null,
      "grid_area": null,
      "grid_auto_columns": null,
      "grid_auto_flow": null,
      "grid_auto_rows": null,
      "grid_column": null,
      "grid_gap": null,
      "grid_row": null,
      "grid_template_areas": null,
      "grid_template_columns": null,
      "grid_template_rows": null,
      "height": null,
      "justify_content": null,
      "justify_items": null,
      "left": null,
      "margin": null,
      "max_height": null,
      "max_width": null,
      "min_height": null,
      "min_width": null,
      "object_fit": null,
      "object_position": null,
      "order": null,
      "overflow": null,
      "overflow_x": null,
      "overflow_y": null,
      "padding": null,
      "right": null,
      "top": null,
      "visibility": null,
      "width": null
     }
    },
    "1570d63686bf418a951e52c58e28d42b": {
     "model_module": "@jupyter-widgets/controls",
     "model_name": "HTMLModel",
     "state": {
      "_dom_classes": [],
      "_model_module": "@jupyter-widgets/controls",
      "_model_module_version": "1.5.0",
      "_model_name": "HTMLModel",
      "_view_count": null,
      "_view_module": "@jupyter-widgets/controls",
      "_view_module_version": "1.5.0",
      "_view_name": "HTMLView",
      "description": "",
      "description_tooltip": null,
      "layout": "IPY_MODEL_59a5550bd0aa4409a55a6a99bd09ed4e",
      "placeholder": "​",
      "style": "IPY_MODEL_31594fed9cb7496093e4fc0ebd30e6d9",
      "value": " 433/433 [00:00&lt;00:00, 2.75kB/s]"
     }
    },
    "1a605eeac4bd4fdaa3ad25dbdb5701fd": {
     "model_module": "@jupyter-widgets/controls",
     "model_name": "HBoxModel",
     "state": {
      "_dom_classes": [],
      "_model_module": "@jupyter-widgets/controls",
      "_model_module_version": "1.5.0",
      "_model_name": "HBoxModel",
      "_view_count": null,
      "_view_module": "@jupyter-widgets/controls",
      "_view_module_version": "1.5.0",
      "_view_name": "HBoxView",
      "box_style": "",
      "children": [
       "IPY_MODEL_b49e2fff64be4fda82b40a94c7075ed1",
       "IPY_MODEL_1570d63686bf418a951e52c58e28d42b"
      ],
      "layout": "IPY_MODEL_a39401338a8e462db91415da81e935e2"
     }
    },
    "2025fff6a8f14eeaadc2b1f5f42f9b9d": {
     "model_module": "@jupyter-widgets/controls",
     "model_name": "DescriptionStyleModel",
     "state": {
      "_model_module": "@jupyter-widgets/controls",
      "_model_module_version": "1.5.0",
      "_model_name": "DescriptionStyleModel",
      "_view_count": null,
      "_view_module": "@jupyter-widgets/base",
      "_view_module_version": "1.2.0",
      "_view_name": "StyleView",
      "description_width": ""
     }
    },
    "21470900b6ac49a0bc77848035cdfd64": {
     "model_module": "@jupyter-widgets/controls",
     "model_name": "DescriptionStyleModel",
     "state": {
      "_model_module": "@jupyter-widgets/controls",
      "_model_module_version": "1.5.0",
      "_model_name": "DescriptionStyleModel",
      "_view_count": null,
      "_view_module": "@jupyter-widgets/base",
      "_view_module_version": "1.2.0",
      "_view_name": "StyleView",
      "description_width": ""
     }
    },
    "2911989767ef43a5b52428d20a520901": {
     "model_module": "@jupyter-widgets/controls",
     "model_name": "HTMLModel",
     "state": {
      "_dom_classes": [],
      "_model_module": "@jupyter-widgets/controls",
      "_model_module_version": "1.5.0",
      "_model_name": "HTMLModel",
      "_view_count": null,
      "_view_module": "@jupyter-widgets/controls",
      "_view_module_version": "1.5.0",
      "_view_name": "HTMLView",
      "description": "",
      "description_tooltip": null,
      "layout": "IPY_MODEL_57c05f30c7c24b9dae929941e005295d",
      "placeholder": "​",
      "style": "IPY_MODEL_21470900b6ac49a0bc77848035cdfd64",
      "value": " 6/2811 [00:05&lt;45:30,  1.03it/s]"
     }
    },
    "2abf4a4c430a4ebf97a1f8376c7e1c72": {
     "model_module": "@jupyter-widgets/base",
     "model_name": "LayoutModel",
     "state": {
      "_model_module": "@jupyter-widgets/base",
      "_model_module_version": "1.2.0",
      "_model_name": "LayoutModel",
      "_view_count": null,
      "_view_module": "@jupyter-widgets/base",
      "_view_module_version": "1.2.0",
      "_view_name": "LayoutView",
      "align_content": null,
      "align_items": null,
      "align_self": null,
      "border": null,
      "bottom": null,
      "display": null,
      "flex": null,
      "flex_flow": null,
      "grid_area": null,
      "grid_auto_columns": null,
      "grid_auto_flow": null,
      "grid_auto_rows": null,
      "grid_column": null,
      "grid_gap": null,
      "grid_row": null,
      "grid_template_areas": null,
      "grid_template_columns": null,
      "grid_template_rows": null,
      "height": null,
      "justify_content": null,
      "justify_items": null,
      "left": null,
      "margin": null,
      "max_height": null,
      "max_width": null,
      "min_height": null,
      "min_width": null,
      "object_fit": null,
      "object_position": null,
      "order": null,
      "overflow": null,
      "overflow_x": null,
      "overflow_y": null,
      "padding": null,
      "right": null,
      "top": null,
      "visibility": null,
      "width": null
     }
    },
    "2c8df509a6df412398b8ae1ce2637d05": {
     "model_module": "@jupyter-widgets/controls",
     "model_name": "HTMLModel",
     "state": {
      "_dom_classes": [],
      "_model_module": "@jupyter-widgets/controls",
      "_model_module_version": "1.5.0",
      "_model_name": "HTMLModel",
      "_view_count": null,
      "_view_module": "@jupyter-widgets/controls",
      "_view_module_version": "1.5.0",
      "_view_name": "HTMLView",
      "description": "",
      "description_tooltip": null,
      "layout": "IPY_MODEL_cc8af370633d4e1db0240d057f56b030",
      "placeholder": "​",
      "style": "IPY_MODEL_025a94351f234533805dbbf21e493571",
      "value": " 232k/232k [00:00&lt;00:00, 615kB/s]"
     }
    },
    "2ce397f590c74e06b9f0a11d1a219915": {
     "model_module": "@jupyter-widgets/base",
     "model_name": "LayoutModel",
     "state": {
      "_model_module": "@jupyter-widgets/base",
      "_model_module_version": "1.2.0",
      "_model_name": "LayoutModel",
      "_view_count": null,
      "_view_module": "@jupyter-widgets/base",
      "_view_module_version": "1.2.0",
      "_view_name": "LayoutView",
      "align_content": null,
      "align_items": null,
      "align_self": null,
      "border": null,
      "bottom": null,
      "display": null,
      "flex": null,
      "flex_flow": null,
      "grid_area": null,
      "grid_auto_columns": null,
      "grid_auto_flow": null,
      "grid_auto_rows": null,
      "grid_column": null,
      "grid_gap": null,
      "grid_row": null,
      "grid_template_areas": null,
      "grid_template_columns": null,
      "grid_template_rows": null,
      "height": null,
      "justify_content": null,
      "justify_items": null,
      "left": null,
      "margin": null,
      "max_height": null,
      "max_width": null,
      "min_height": null,
      "min_width": null,
      "object_fit": null,
      "object_position": null,
      "order": null,
      "overflow": null,
      "overflow_x": null,
      "overflow_y": null,
      "padding": null,
      "right": null,
      "top": null,
      "visibility": null,
      "width": null
     }
    },
    "2ee633412ccf408ea1b695c7cb2b0a7b": {
     "model_module": "@jupyter-widgets/base",
     "model_name": "LayoutModel",
     "state": {
      "_model_module": "@jupyter-widgets/base",
      "_model_module_version": "1.2.0",
      "_model_name": "LayoutModel",
      "_view_count": null,
      "_view_module": "@jupyter-widgets/base",
      "_view_module_version": "1.2.0",
      "_view_name": "LayoutView",
      "align_content": null,
      "align_items": null,
      "align_self": null,
      "border": null,
      "bottom": null,
      "display": null,
      "flex": null,
      "flex_flow": null,
      "grid_area": null,
      "grid_auto_columns": null,
      "grid_auto_flow": null,
      "grid_auto_rows": null,
      "grid_column": null,
      "grid_gap": null,
      "grid_row": null,
      "grid_template_areas": null,
      "grid_template_columns": null,
      "grid_template_rows": null,
      "height": null,
      "justify_content": null,
      "justify_items": null,
      "left": null,
      "margin": null,
      "max_height": null,
      "max_width": null,
      "min_height": null,
      "min_width": null,
      "object_fit": null,
      "object_position": null,
      "order": null,
      "overflow": null,
      "overflow_x": null,
      "overflow_y": null,
      "padding": null,
      "right": null,
      "top": null,
      "visibility": null,
      "width": null
     }
    },
    "31594fed9cb7496093e4fc0ebd30e6d9": {
     "model_module": "@jupyter-widgets/controls",
     "model_name": "DescriptionStyleModel",
     "state": {
      "_model_module": "@jupyter-widgets/controls",
      "_model_module_version": "1.5.0",
      "_model_name": "DescriptionStyleModel",
      "_view_count": null,
      "_view_module": "@jupyter-widgets/base",
      "_view_module_version": "1.2.0",
      "_view_name": "StyleView",
      "description_width": ""
     }
    },
    "32a5bd7f6b634d2abe4bc24c779244fc": {
     "model_module": "@jupyter-widgets/controls",
     "model_name": "HBoxModel",
     "state": {
      "_dom_classes": [],
      "_model_module": "@jupyter-widgets/controls",
      "_model_module_version": "1.5.0",
      "_model_name": "HBoxModel",
      "_view_count": null,
      "_view_module": "@jupyter-widgets/controls",
      "_view_module_version": "1.5.0",
      "_view_name": "HBoxView",
      "box_style": "",
      "children": [
       "IPY_MODEL_59a2fb95fa5047a0929c5be52ba07fdc",
       "IPY_MODEL_cd2a06471e3c404182ea49db3635132c"
      ],
      "layout": "IPY_MODEL_7e058e08b9d5441dab0b1ae00b50af03"
     }
    },
    "350f6bfed6b543269cada30c60d629dc": {
     "model_module": "@jupyter-widgets/controls",
     "model_name": "FloatProgressModel",
     "state": {
      "_dom_classes": [],
      "_model_module": "@jupyter-widgets/controls",
      "_model_module_version": "1.5.0",
      "_model_name": "FloatProgressModel",
      "_view_count": null,
      "_view_module": "@jupyter-widgets/controls",
      "_view_module_version": "1.5.0",
      "_view_name": "ProgressView",
      "bar_style": "success",
      "description": "Downloading: 100%",
      "description_tooltip": null,
      "layout": "IPY_MODEL_2abf4a4c430a4ebf97a1f8376c7e1c72",
      "max": 440473133,
      "min": 0,
      "orientation": "horizontal",
      "style": "IPY_MODEL_4c2b06eac8d846c5a8a1e018606baef3",
      "value": 440473133
     }
    },
    "388dbe0d310f4d56858d6f2f61e93a21": {
     "model_module": "@jupyter-widgets/controls",
     "model_name": "FloatProgressModel",
     "state": {
      "_dom_classes": [],
      "_model_module": "@jupyter-widgets/controls",
      "_model_module_version": "1.5.0",
      "_model_name": "FloatProgressModel",
      "_view_count": null,
      "_view_module": "@jupyter-widgets/controls",
      "_view_module_version": "1.5.0",
      "_view_name": "ProgressView",
      "bar_style": "success",
      "description": "100%",
      "description_tooltip": null,
      "layout": "IPY_MODEL_0889d36cd6d3467c9035a6ffccb0792b",
      "max": 2811,
      "min": 0,
      "orientation": "horizontal",
      "style": "IPY_MODEL_b9564c0e2ee74854839999e8c0e27255",
      "value": 2811
     }
    },
    "4b58b61713a145d086f8cec2e8772d25": {
     "model_module": "@jupyter-widgets/controls",
     "model_name": "HTMLModel",
     "state": {
      "_dom_classes": [],
      "_model_module": "@jupyter-widgets/controls",
      "_model_module_version": "1.5.0",
      "_model_name": "HTMLModel",
      "_view_count": null,
      "_view_module": "@jupyter-widgets/controls",
      "_view_module_version": "1.5.0",
      "_view_name": "HTMLView",
      "description": "",
      "description_tooltip": null,
      "layout": "IPY_MODEL_2ee633412ccf408ea1b695c7cb2b0a7b",
      "placeholder": "​",
      "style": "IPY_MODEL_2025fff6a8f14eeaadc2b1f5f42f9b9d",
      "value": " 2811/2811 [46:04&lt;00:00,  1.02it/s]"
     }
    },
    "4c2b06eac8d846c5a8a1e018606baef3": {
     "model_module": "@jupyter-widgets/controls",
     "model_name": "ProgressStyleModel",
     "state": {
      "_model_module": "@jupyter-widgets/controls",
      "_model_module_version": "1.5.0",
      "_model_name": "ProgressStyleModel",
      "_view_count": null,
      "_view_module": "@jupyter-widgets/base",
      "_view_module_version": "1.2.0",
      "_view_name": "StyleView",
      "bar_color": null,
      "description_width": "initial"
     }
    },
    "50835317b77149039ce1166d5ec8a29b": {
     "model_module": "@jupyter-widgets/base",
     "model_name": "LayoutModel",
     "state": {
      "_model_module": "@jupyter-widgets/base",
      "_model_module_version": "1.2.0",
      "_model_name": "LayoutModel",
      "_view_count": null,
      "_view_module": "@jupyter-widgets/base",
      "_view_module_version": "1.2.0",
      "_view_name": "LayoutView",
      "align_content": null,
      "align_items": null,
      "align_self": null,
      "border": null,
      "bottom": null,
      "display": null,
      "flex": null,
      "flex_flow": null,
      "grid_area": null,
      "grid_auto_columns": null,
      "grid_auto_flow": null,
      "grid_auto_rows": null,
      "grid_column": null,
      "grid_gap": null,
      "grid_row": null,
      "grid_template_areas": null,
      "grid_template_columns": null,
      "grid_template_rows": null,
      "height": null,
      "justify_content": null,
      "justify_items": null,
      "left": null,
      "margin": null,
      "max_height": null,
      "max_width": null,
      "min_height": null,
      "min_width": null,
      "object_fit": null,
      "object_position": null,
      "order": null,
      "overflow": null,
      "overflow_x": null,
      "overflow_y": null,
      "padding": null,
      "right": null,
      "top": null,
      "visibility": null,
      "width": null
     }
    },
    "57c05f30c7c24b9dae929941e005295d": {
     "model_module": "@jupyter-widgets/base",
     "model_name": "LayoutModel",
     "state": {
      "_model_module": "@jupyter-widgets/base",
      "_model_module_version": "1.2.0",
      "_model_name": "LayoutModel",
      "_view_count": null,
      "_view_module": "@jupyter-widgets/base",
      "_view_module_version": "1.2.0",
      "_view_name": "LayoutView",
      "align_content": null,
      "align_items": null,
      "align_self": null,
      "border": null,
      "bottom": null,
      "display": null,
      "flex": null,
      "flex_flow": null,
      "grid_area": null,
      "grid_auto_columns": null,
      "grid_auto_flow": null,
      "grid_auto_rows": null,
      "grid_column": null,
      "grid_gap": null,
      "grid_row": null,
      "grid_template_areas": null,
      "grid_template_columns": null,
      "grid_template_rows": null,
      "height": null,
      "justify_content": null,
      "justify_items": null,
      "left": null,
      "margin": null,
      "max_height": null,
      "max_width": null,
      "min_height": null,
      "min_width": null,
      "object_fit": null,
      "object_position": null,
      "order": null,
      "overflow": null,
      "overflow_x": null,
      "overflow_y": null,
      "padding": null,
      "right": null,
      "top": null,
      "visibility": null,
      "width": null
     }
    },
    "59a2fb95fa5047a0929c5be52ba07fdc": {
     "model_module": "@jupyter-widgets/controls",
     "model_name": "FloatProgressModel",
     "state": {
      "_dom_classes": [],
      "_model_module": "@jupyter-widgets/controls",
      "_model_module_version": "1.5.0",
      "_model_name": "FloatProgressModel",
      "_view_count": null,
      "_view_module": "@jupyter-widgets/controls",
      "_view_module_version": "1.5.0",
      "_view_name": "ProgressView",
      "bar_style": "success",
      "description": "100%",
      "description_tooltip": null,
      "layout": "IPY_MODEL_9589296f9e374b6dabab62b9093b483d",
      "max": 352,
      "min": 0,
      "orientation": "horizontal",
      "style": "IPY_MODEL_ae6bdb4eed204cd6acf9b991c1dce1fb",
      "value": 352
     }
    },
    "59a5550bd0aa4409a55a6a99bd09ed4e": {
     "model_module": "@jupyter-widgets/base",
     "model_name": "LayoutModel",
     "state": {
      "_model_module": "@jupyter-widgets/base",
      "_model_module_version": "1.2.0",
      "_model_name": "LayoutModel",
      "_view_count": null,
      "_view_module": "@jupyter-widgets/base",
      "_view_module_version": "1.2.0",
      "_view_name": "LayoutView",
      "align_content": null,
      "align_items": null,
      "align_self": null,
      "border": null,
      "bottom": null,
      "display": null,
      "flex": null,
      "flex_flow": null,
      "grid_area": null,
      "grid_auto_columns": null,
      "grid_auto_flow": null,
      "grid_auto_rows": null,
      "grid_column": null,
      "grid_gap": null,
      "grid_row": null,
      "grid_template_areas": null,
      "grid_template_columns": null,
      "grid_template_rows": null,
      "height": null,
      "justify_content": null,
      "justify_items": null,
      "left": null,
      "margin": null,
      "max_height": null,
      "max_width": null,
      "min_height": null,
      "min_width": null,
      "object_fit": null,
      "object_position": null,
      "order": null,
      "overflow": null,
      "overflow_x": null,
      "overflow_y": null,
      "padding": null,
      "right": null,
      "top": null,
      "visibility": null,
      "width": null
     }
    },
    "6d26cba942864fcfb8b5c6f7713c47d7": {
     "model_module": "@jupyter-widgets/controls",
     "model_name": "HBoxModel",
     "state": {
      "_dom_classes": [],
      "_model_module": "@jupyter-widgets/controls",
      "_model_module_version": "1.5.0",
      "_model_name": "HBoxModel",
      "_view_count": null,
      "_view_module": "@jupyter-widgets/controls",
      "_view_module_version": "1.5.0",
      "_view_name": "HBoxView",
      "box_style": "",
      "children": [
       "IPY_MODEL_388dbe0d310f4d56858d6f2f61e93a21",
       "IPY_MODEL_4b58b61713a145d086f8cec2e8772d25"
      ],
      "layout": "IPY_MODEL_b9d583e0022249bb978e1b1cb3259c0a"
     }
    },
    "74e5d9fe99f848469e87e3c0acae1a8f": {
     "model_module": "@jupyter-widgets/base",
     "model_name": "LayoutModel",
     "state": {
      "_model_module": "@jupyter-widgets/base",
      "_model_module_version": "1.2.0",
      "_model_name": "LayoutModel",
      "_view_count": null,
      "_view_module": "@jupyter-widgets/base",
      "_view_module_version": "1.2.0",
      "_view_name": "LayoutView",
      "align_content": null,
      "align_items": null,
      "align_self": null,
      "border": null,
      "bottom": null,
      "display": null,
      "flex": null,
      "flex_flow": null,
      "grid_area": null,
      "grid_auto_columns": null,
      "grid_auto_flow": null,
      "grid_auto_rows": null,
      "grid_column": null,
      "grid_gap": null,
      "grid_row": null,
      "grid_template_areas": null,
      "grid_template_columns": null,
      "grid_template_rows": null,
      "height": null,
      "justify_content": null,
      "justify_items": null,
      "left": null,
      "margin": null,
      "max_height": null,
      "max_width": null,
      "min_height": null,
      "min_width": null,
      "object_fit": null,
      "object_position": null,
      "order": null,
      "overflow": null,
      "overflow_x": null,
      "overflow_y": null,
      "padding": null,
      "right": null,
      "top": null,
      "visibility": null,
      "width": null
     }
    },
    "794581a502b94907a08c708f6082ef05": {
     "model_module": "@jupyter-widgets/controls",
     "model_name": "HTMLModel",
     "state": {
      "_dom_classes": [],
      "_model_module": "@jupyter-widgets/controls",
      "_model_module_version": "1.5.0",
      "_model_name": "HTMLModel",
      "_view_count": null,
      "_view_module": "@jupyter-widgets/controls",
      "_view_module_version": "1.5.0",
      "_view_name": "HTMLView",
      "description": "",
      "description_tooltip": null,
      "layout": "IPY_MODEL_f044cfb9b81f4044ade22bafa4a3e75a",
      "placeholder": "​",
      "style": "IPY_MODEL_7a380cece46d44ccbbed5b352ea33bfa",
      "value": " 440M/440M [00:10&lt;00:00, 41.3MB/s]"
     }
    },
    "7a380cece46d44ccbbed5b352ea33bfa": {
     "model_module": "@jupyter-widgets/controls",
     "model_name": "DescriptionStyleModel",
     "state": {
      "_model_module": "@jupyter-widgets/controls",
      "_model_module_version": "1.5.0",
      "_model_name": "DescriptionStyleModel",
      "_view_count": null,
      "_view_module": "@jupyter-widgets/base",
      "_view_module_version": "1.2.0",
      "_view_name": "StyleView",
      "description_width": ""
     }
    },
    "7b9b948f7fea475b823d6cc3d525c536": {
     "model_module": "@jupyter-widgets/base",
     "model_name": "LayoutModel",
     "state": {
      "_model_module": "@jupyter-widgets/base",
      "_model_module_version": "1.2.0",
      "_model_name": "LayoutModel",
      "_view_count": null,
      "_view_module": "@jupyter-widgets/base",
      "_view_module_version": "1.2.0",
      "_view_name": "LayoutView",
      "align_content": null,
      "align_items": null,
      "align_self": null,
      "border": null,
      "bottom": null,
      "display": null,
      "flex": null,
      "flex_flow": null,
      "grid_area": null,
      "grid_auto_columns": null,
      "grid_auto_flow": null,
      "grid_auto_rows": null,
      "grid_column": null,
      "grid_gap": null,
      "grid_row": null,
      "grid_template_areas": null,
      "grid_template_columns": null,
      "grid_template_rows": null,
      "height": null,
      "justify_content": null,
      "justify_items": null,
      "left": null,
      "margin": null,
      "max_height": null,
      "max_width": null,
      "min_height": null,
      "min_width": null,
      "object_fit": null,
      "object_position": null,
      "order": null,
      "overflow": null,
      "overflow_x": null,
      "overflow_y": null,
      "padding": null,
      "right": null,
      "top": null,
      "visibility": null,
      "width": null
     }
    },
    "7e058e08b9d5441dab0b1ae00b50af03": {
     "model_module": "@jupyter-widgets/base",
     "model_name": "LayoutModel",
     "state": {
      "_model_module": "@jupyter-widgets/base",
      "_model_module_version": "1.2.0",
      "_model_name": "LayoutModel",
      "_view_count": null,
      "_view_module": "@jupyter-widgets/base",
      "_view_module_version": "1.2.0",
      "_view_name": "LayoutView",
      "align_content": null,
      "align_items": null,
      "align_self": null,
      "border": null,
      "bottom": null,
      "display": null,
      "flex": null,
      "flex_flow": null,
      "grid_area": null,
      "grid_auto_columns": null,
      "grid_auto_flow": null,
      "grid_auto_rows": null,
      "grid_column": null,
      "grid_gap": null,
      "grid_row": null,
      "grid_template_areas": null,
      "grid_template_columns": null,
      "grid_template_rows": null,
      "height": null,
      "justify_content": null,
      "justify_items": null,
      "left": null,
      "margin": null,
      "max_height": null,
      "max_width": null,
      "min_height": null,
      "min_width": null,
      "object_fit": null,
      "object_position": null,
      "order": null,
      "overflow": null,
      "overflow_x": null,
      "overflow_y": null,
      "padding": null,
      "right": null,
      "top": null,
      "visibility": null,
      "width": null
     }
    },
    "8c9e912a71b143d99712d1ff20c184c2": {
     "model_module": "@jupyter-widgets/controls",
     "model_name": "FloatProgressModel",
     "state": {
      "_dom_classes": [],
      "_model_module": "@jupyter-widgets/controls",
      "_model_module_version": "1.5.0",
      "_model_name": "FloatProgressModel",
      "_view_count": null,
      "_view_module": "@jupyter-widgets/controls",
      "_view_module_version": "1.5.0",
      "_view_name": "ProgressView",
      "bar_style": "success",
      "description": "Downloading: 100%",
      "description_tooltip": null,
      "layout": "IPY_MODEL_e6185077d6e444d493e070a396cf5432",
      "max": 231508,
      "min": 0,
      "orientation": "horizontal",
      "style": "IPY_MODEL_c69c8fbd92334b188ad7bf6931e47b85",
      "value": 231508
     }
    },
    "9589296f9e374b6dabab62b9093b483d": {
     "model_module": "@jupyter-widgets/base",
     "model_name": "LayoutModel",
     "state": {
      "_model_module": "@jupyter-widgets/base",
      "_model_module_version": "1.2.0",
      "_model_name": "LayoutModel",
      "_view_count": null,
      "_view_module": "@jupyter-widgets/base",
      "_view_module_version": "1.2.0",
      "_view_name": "LayoutView",
      "align_content": null,
      "align_items": null,
      "align_self": null,
      "border": null,
      "bottom": null,
      "display": null,
      "flex": null,
      "flex_flow": null,
      "grid_area": null,
      "grid_auto_columns": null,
      "grid_auto_flow": null,
      "grid_auto_rows": null,
      "grid_column": null,
      "grid_gap": null,
      "grid_row": null,
      "grid_template_areas": null,
      "grid_template_columns": null,
      "grid_template_rows": null,
      "height": null,
      "justify_content": null,
      "justify_items": null,
      "left": null,
      "margin": null,
      "max_height": null,
      "max_width": null,
      "min_height": null,
      "min_width": null,
      "object_fit": null,
      "object_position": null,
      "order": null,
      "overflow": null,
      "overflow_x": null,
      "overflow_y": null,
      "padding": null,
      "right": null,
      "top": null,
      "visibility": null,
      "width": null
     }
    },
    "a0187a0961804e72873c61a55ebfcfd8": {
     "model_module": "@jupyter-widgets/base",
     "model_name": "LayoutModel",
     "state": {
      "_model_module": "@jupyter-widgets/base",
      "_model_module_version": "1.2.0",
      "_model_name": "LayoutModel",
      "_view_count": null,
      "_view_module": "@jupyter-widgets/base",
      "_view_module_version": "1.2.0",
      "_view_name": "LayoutView",
      "align_content": null,
      "align_items": null,
      "align_self": null,
      "border": null,
      "bottom": null,
      "display": null,
      "flex": null,
      "flex_flow": null,
      "grid_area": null,
      "grid_auto_columns": null,
      "grid_auto_flow": null,
      "grid_auto_rows": null,
      "grid_column": null,
      "grid_gap": null,
      "grid_row": null,
      "grid_template_areas": null,
      "grid_template_columns": null,
      "grid_template_rows": null,
      "height": null,
      "justify_content": null,
      "justify_items": null,
      "left": null,
      "margin": null,
      "max_height": null,
      "max_width": null,
      "min_height": null,
      "min_width": null,
      "object_fit": null,
      "object_position": null,
      "order": null,
      "overflow": null,
      "overflow_x": null,
      "overflow_y": null,
      "padding": null,
      "right": null,
      "top": null,
      "visibility": null,
      "width": null
     }
    },
    "a39401338a8e462db91415da81e935e2": {
     "model_module": "@jupyter-widgets/base",
     "model_name": "LayoutModel",
     "state": {
      "_model_module": "@jupyter-widgets/base",
      "_model_module_version": "1.2.0",
      "_model_name": "LayoutModel",
      "_view_count": null,
      "_view_module": "@jupyter-widgets/base",
      "_view_module_version": "1.2.0",
      "_view_name": "LayoutView",
      "align_content": null,
      "align_items": null,
      "align_self": null,
      "border": null,
      "bottom": null,
      "display": null,
      "flex": null,
      "flex_flow": null,
      "grid_area": null,
      "grid_auto_columns": null,
      "grid_auto_flow": null,
      "grid_auto_rows": null,
      "grid_column": null,
      "grid_gap": null,
      "grid_row": null,
      "grid_template_areas": null,
      "grid_template_columns": null,
      "grid_template_rows": null,
      "height": null,
      "justify_content": null,
      "justify_items": null,
      "left": null,
      "margin": null,
      "max_height": null,
      "max_width": null,
      "min_height": null,
      "min_width": null,
      "object_fit": null,
      "object_position": null,
      "order": null,
      "overflow": null,
      "overflow_x": null,
      "overflow_y": null,
      "padding": null,
      "right": null,
      "top": null,
      "visibility": null,
      "width": null
     }
    },
    "ae6bdb4eed204cd6acf9b991c1dce1fb": {
     "model_module": "@jupyter-widgets/controls",
     "model_name": "ProgressStyleModel",
     "state": {
      "_model_module": "@jupyter-widgets/controls",
      "_model_module_version": "1.5.0",
      "_model_name": "ProgressStyleModel",
      "_view_count": null,
      "_view_module": "@jupyter-widgets/base",
      "_view_module_version": "1.2.0",
      "_view_name": "StyleView",
      "bar_color": null,
      "description_width": "initial"
     }
    },
    "b49e2fff64be4fda82b40a94c7075ed1": {
     "model_module": "@jupyter-widgets/controls",
     "model_name": "FloatProgressModel",
     "state": {
      "_dom_classes": [],
      "_model_module": "@jupyter-widgets/controls",
      "_model_module_version": "1.5.0",
      "_model_name": "FloatProgressModel",
      "_view_count": null,
      "_view_module": "@jupyter-widgets/controls",
      "_view_module_version": "1.5.0",
      "_view_name": "ProgressView",
      "bar_style": "success",
      "description": "Downloading: 100%",
      "description_tooltip": null,
      "layout": "IPY_MODEL_74e5d9fe99f848469e87e3c0acae1a8f",
      "max": 433,
      "min": 0,
      "orientation": "horizontal",
      "style": "IPY_MODEL_c1c83b3e6f98413a88b50f77659e978d",
      "value": 433
     }
    },
    "b9564c0e2ee74854839999e8c0e27255": {
     "model_module": "@jupyter-widgets/controls",
     "model_name": "ProgressStyleModel",
     "state": {
      "_model_module": "@jupyter-widgets/controls",
      "_model_module_version": "1.5.0",
      "_model_name": "ProgressStyleModel",
      "_view_count": null,
      "_view_module": "@jupyter-widgets/base",
      "_view_module_version": "1.2.0",
      "_view_name": "StyleView",
      "bar_color": null,
      "description_width": "initial"
     }
    },
    "b9d583e0022249bb978e1b1cb3259c0a": {
     "model_module": "@jupyter-widgets/base",
     "model_name": "LayoutModel",
     "state": {
      "_model_module": "@jupyter-widgets/base",
      "_model_module_version": "1.2.0",
      "_model_name": "LayoutModel",
      "_view_count": null,
      "_view_module": "@jupyter-widgets/base",
      "_view_module_version": "1.2.0",
      "_view_name": "LayoutView",
      "align_content": null,
      "align_items": null,
      "align_self": null,
      "border": null,
      "bottom": null,
      "display": null,
      "flex": null,
      "flex_flow": null,
      "grid_area": null,
      "grid_auto_columns": null,
      "grid_auto_flow": null,
      "grid_auto_rows": null,
      "grid_column": null,
      "grid_gap": null,
      "grid_row": null,
      "grid_template_areas": null,
      "grid_template_columns": null,
      "grid_template_rows": null,
      "height": null,
      "justify_content": null,
      "justify_items": null,
      "left": null,
      "margin": null,
      "max_height": null,
      "max_width": null,
      "min_height": null,
      "min_width": null,
      "object_fit": null,
      "object_position": null,
      "order": null,
      "overflow": null,
      "overflow_x": null,
      "overflow_y": null,
      "padding": null,
      "right": null,
      "top": null,
      "visibility": null,
      "width": null
     }
    },
    "c1c83b3e6f98413a88b50f77659e978d": {
     "model_module": "@jupyter-widgets/controls",
     "model_name": "ProgressStyleModel",
     "state": {
      "_model_module": "@jupyter-widgets/controls",
      "_model_module_version": "1.5.0",
      "_model_name": "ProgressStyleModel",
      "_view_count": null,
      "_view_module": "@jupyter-widgets/base",
      "_view_module_version": "1.2.0",
      "_view_name": "StyleView",
      "bar_color": null,
      "description_width": "initial"
     }
    },
    "c69c8fbd92334b188ad7bf6931e47b85": {
     "model_module": "@jupyter-widgets/controls",
     "model_name": "ProgressStyleModel",
     "state": {
      "_model_module": "@jupyter-widgets/controls",
      "_model_module_version": "1.5.0",
      "_model_name": "ProgressStyleModel",
      "_view_count": null,
      "_view_module": "@jupyter-widgets/base",
      "_view_module_version": "1.2.0",
      "_view_name": "StyleView",
      "bar_color": null,
      "description_width": "initial"
     }
    },
    "c6b4d41bf5b04650a6cb28296e8f64eb": {
     "model_module": "@jupyter-widgets/controls",
     "model_name": "HBoxModel",
     "state": {
      "_dom_classes": [],
      "_model_module": "@jupyter-widgets/controls",
      "_model_module_version": "1.5.0",
      "_model_name": "HBoxModel",
      "_view_count": null,
      "_view_module": "@jupyter-widgets/controls",
      "_view_module_version": "1.5.0",
      "_view_name": "HBoxView",
      "box_style": "",
      "children": [
       "IPY_MODEL_8c9e912a71b143d99712d1ff20c184c2",
       "IPY_MODEL_2c8df509a6df412398b8ae1ce2637d05"
      ],
      "layout": "IPY_MODEL_2ce397f590c74e06b9f0a11d1a219915"
     }
    },
    "cc8af370633d4e1db0240d057f56b030": {
     "model_module": "@jupyter-widgets/base",
     "model_name": "LayoutModel",
     "state": {
      "_model_module": "@jupyter-widgets/base",
      "_model_module_version": "1.2.0",
      "_model_name": "LayoutModel",
      "_view_count": null,
      "_view_module": "@jupyter-widgets/base",
      "_view_module_version": "1.2.0",
      "_view_name": "LayoutView",
      "align_content": null,
      "align_items": null,
      "align_self": null,
      "border": null,
      "bottom": null,
      "display": null,
      "flex": null,
      "flex_flow": null,
      "grid_area": null,
      "grid_auto_columns": null,
      "grid_auto_flow": null,
      "grid_auto_rows": null,
      "grid_column": null,
      "grid_gap": null,
      "grid_row": null,
      "grid_template_areas": null,
      "grid_template_columns": null,
      "grid_template_rows": null,
      "height": null,
      "justify_content": null,
      "justify_items": null,
      "left": null,
      "margin": null,
      "max_height": null,
      "max_width": null,
      "min_height": null,
      "min_width": null,
      "object_fit": null,
      "object_position": null,
      "order": null,
      "overflow": null,
      "overflow_x": null,
      "overflow_y": null,
      "padding": null,
      "right": null,
      "top": null,
      "visibility": null,
      "width": null
     }
    },
    "cd2a06471e3c404182ea49db3635132c": {
     "model_module": "@jupyter-widgets/controls",
     "model_name": "HTMLModel",
     "state": {
      "_dom_classes": [],
      "_model_module": "@jupyter-widgets/controls",
      "_model_module_version": "1.5.0",
      "_model_name": "HTMLModel",
      "_view_count": null,
      "_view_module": "@jupyter-widgets/controls",
      "_view_module_version": "1.5.0",
      "_view_name": "HTMLView",
      "description": "",
      "description_tooltip": null,
      "layout": "IPY_MODEL_7b9b948f7fea475b823d6cc3d525c536",
      "placeholder": "​",
      "style": "IPY_MODEL_d112fb7436a943aca243e9a634e06447",
      "value": " 352/352 [03:19&lt;00:00,  1.76it/s]"
     }
    },
    "d112fb7436a943aca243e9a634e06447": {
     "model_module": "@jupyter-widgets/controls",
     "model_name": "DescriptionStyleModel",
     "state": {
      "_model_module": "@jupyter-widgets/controls",
      "_model_module_version": "1.5.0",
      "_model_name": "DescriptionStyleModel",
      "_view_count": null,
      "_view_module": "@jupyter-widgets/base",
      "_view_module_version": "1.2.0",
      "_view_name": "StyleView",
      "description_width": ""
     }
    },
    "e6185077d6e444d493e070a396cf5432": {
     "model_module": "@jupyter-widgets/base",
     "model_name": "LayoutModel",
     "state": {
      "_model_module": "@jupyter-widgets/base",
      "_model_module_version": "1.2.0",
      "_model_name": "LayoutModel",
      "_view_count": null,
      "_view_module": "@jupyter-widgets/base",
      "_view_module_version": "1.2.0",
      "_view_name": "LayoutView",
      "align_content": null,
      "align_items": null,
      "align_self": null,
      "border": null,
      "bottom": null,
      "display": null,
      "flex": null,
      "flex_flow": null,
      "grid_area": null,
      "grid_auto_columns": null,
      "grid_auto_flow": null,
      "grid_auto_rows": null,
      "grid_column": null,
      "grid_gap": null,
      "grid_row": null,
      "grid_template_areas": null,
      "grid_template_columns": null,
      "grid_template_rows": null,
      "height": null,
      "justify_content": null,
      "justify_items": null,
      "left": null,
      "margin": null,
      "max_height": null,
      "max_width": null,
      "min_height": null,
      "min_width": null,
      "object_fit": null,
      "object_position": null,
      "order": null,
      "overflow": null,
      "overflow_x": null,
      "overflow_y": null,
      "padding": null,
      "right": null,
      "top": null,
      "visibility": null,
      "width": null
     }
    },
    "ed3f7cede2e44df9b60a0b2fe59ef139": {
     "model_module": "@jupyter-widgets/controls",
     "model_name": "ProgressStyleModel",
     "state": {
      "_model_module": "@jupyter-widgets/controls",
      "_model_module_version": "1.5.0",
      "_model_name": "ProgressStyleModel",
      "_view_count": null,
      "_view_module": "@jupyter-widgets/base",
      "_view_module_version": "1.2.0",
      "_view_name": "StyleView",
      "bar_color": null,
      "description_width": "initial"
     }
    },
    "efbd28d66bed4e8984ca90a497799c4a": {
     "model_module": "@jupyter-widgets/controls",
     "model_name": "HBoxModel",
     "state": {
      "_dom_classes": [],
      "_model_module": "@jupyter-widgets/controls",
      "_model_module_version": "1.5.0",
      "_model_name": "HBoxModel",
      "_view_count": null,
      "_view_module": "@jupyter-widgets/controls",
      "_view_module_version": "1.5.0",
      "_view_name": "HBoxView",
      "box_style": "",
      "children": [
       "IPY_MODEL_350f6bfed6b543269cada30c60d629dc",
       "IPY_MODEL_794581a502b94907a08c708f6082ef05"
      ],
      "layout": "IPY_MODEL_50835317b77149039ce1166d5ec8a29b"
     }
    },
    "f044cfb9b81f4044ade22bafa4a3e75a": {
     "model_module": "@jupyter-widgets/base",
     "model_name": "LayoutModel",
     "state": {
      "_model_module": "@jupyter-widgets/base",
      "_model_module_version": "1.2.0",
      "_model_name": "LayoutModel",
      "_view_count": null,
      "_view_module": "@jupyter-widgets/base",
      "_view_module_version": "1.2.0",
      "_view_name": "LayoutView",
      "align_content": null,
      "align_items": null,
      "align_self": null,
      "border": null,
      "bottom": null,
      "display": null,
      "flex": null,
      "flex_flow": null,
      "grid_area": null,
      "grid_auto_columns": null,
      "grid_auto_flow": null,
      "grid_auto_rows": null,
      "grid_column": null,
      "grid_gap": null,
      "grid_row": null,
      "grid_template_areas": null,
      "grid_template_columns": null,
      "grid_template_rows": null,
      "height": null,
      "justify_content": null,
      "justify_items": null,
      "left": null,
      "margin": null,
      "max_height": null,
      "max_width": null,
      "min_height": null,
      "min_width": null,
      "object_fit": null,
      "object_position": null,
      "order": null,
      "overflow": null,
      "overflow_x": null,
      "overflow_y": null,
      "padding": null,
      "right": null,
      "top": null,
      "visibility": null,
      "width": null
     }
    },
    "f32138e8db9a42578fcee2d31be65ab7": {
     "model_module": "@jupyter-widgets/controls",
     "model_name": "HBoxModel",
     "state": {
      "_dom_classes": [],
      "_model_module": "@jupyter-widgets/controls",
      "_model_module_version": "1.5.0",
      "_model_name": "HBoxModel",
      "_view_count": null,
      "_view_module": "@jupyter-widgets/controls",
      "_view_module_version": "1.5.0",
      "_view_name": "HBoxView",
      "box_style": "",
      "children": [
       "IPY_MODEL_04ef41ae36e448a1a106272c94210f04",
       "IPY_MODEL_2911989767ef43a5b52428d20a520901"
      ],
      "layout": "IPY_MODEL_a0187a0961804e72873c61a55ebfcfd8"
     }
    }
   }
  }
 },
 "nbformat": 4,
 "nbformat_minor": 1
}
